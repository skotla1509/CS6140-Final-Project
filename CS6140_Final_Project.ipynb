{
  "nbformat": 4,
  "nbformat_minor": 0,
  "metadata": {
    "colab": {
      "provenance": [],
      "toc_visible": true
    },
    "kernelspec": {
      "name": "python3",
      "display_name": "Python 3"
    },
    "language_info": {
      "name": "python"
    }
  },
  "cells": [
    {
      "cell_type": "markdown",
      "source": [
        "# Data Loading"
      ],
      "metadata": {
        "id": "MSab60D2VLOR"
      }
    },
    {
      "cell_type": "code",
      "execution_count": 2,
      "metadata": {
        "id": "4xiBs5T8IfwT",
        "colab": {
          "base_uri": "https://localhost:8080/"
        },
        "outputId": "2105929e-5929-4c1a-b2ed-9dceda9c59f2"
      },
      "outputs": [
        {
          "output_type": "stream",
          "name": "stdout",
          "text": [
            "Drive already mounted at /content/drive; to attempt to forcibly remount, call drive.mount(\"/content/drive\", force_remount=True).\n"
          ]
        }
      ],
      "source": [
        "from google.colab import drive\n",
        "drive.mount('/content/drive')"
      ]
    },
    {
      "cell_type": "code",
      "source": [
        "import os\n",
        "import pandas as pd\n",
        "from scipy import stats\n",
        "import numpy as np\n",
        "import seaborn as sns\n",
        "import matplotlib.pyplot as plt\n",
        "\n",
        "from sklearn.feature_selection import VarianceThreshold\n",
        "from sklearn.preprocessing import StandardScaler, LabelEncoder\n",
        "from sklearn.model_selection import train_test_split\n"
      ],
      "metadata": {
        "id": "AWcPHLeKP7QN"
      },
      "execution_count": 3,
      "outputs": []
    },
    {
      "cell_type": "code",
      "source": [
        "# sindhu\n",
        "path = r'drive/My Drive/FAI/Code/dataset'"
      ],
      "metadata": {
        "id": "hVSGkK_GN_39"
      },
      "execution_count": 4,
      "outputs": []
    },
    {
      "cell_type": "code",
      "source": [
        "file_list = os.listdir(path)\n",
        "print(file_list)"
      ],
      "metadata": {
        "colab": {
          "base_uri": "https://localhost:8080/"
        },
        "id": "IR_bBqx3Or1F",
        "outputId": "8a3480ab-5718-433c-d736-1a25c35b90b0"
      },
      "execution_count": 5,
      "outputs": [
        {
          "output_type": "stream",
          "name": "stdout",
          "text": [
            "['Telco_customer_churn_population.xlsx', 'Telco_customer_churn_services.xlsx', 'Telco_customer_churn_status.xlsx', 'Telco_customer_churn_demographics.xlsx', 'Telco_customer_churn_location.xlsx', 'Telco_customer_churn.xlsx']\n"
          ]
        }
      ]
    },
    {
      "cell_type": "code",
      "source": [
        "import pandas as pd\n",
        "\n",
        "demographics_df = pd.read_excel(path + '/Telco_customer_churn_demographics.xlsx')\n",
        "location_df = pd.read_excel(path + '/Telco_customer_churn_location.xlsx')\n",
        "population_df = pd.read_excel(path + '/Telco_customer_churn_population.xlsx')\n",
        "services_df = pd.read_excel(path + '/Telco_customer_churn_services.xlsx')\n",
        "status_df = pd.read_excel(path + '/Telco_customer_churn_status.xlsx')\n",
        "\n",
        "# df = pd.read_excel(path + '/Telco_customer_churn.xlsx')\n"
      ],
      "metadata": {
        "id": "QZI6J3BOOz_8"
      },
      "execution_count": 6,
      "outputs": []
    },
    {
      "cell_type": "code",
      "source": [
        "# Merge on CustomerID\n",
        "merged_df = pd.merge(demographics_df, location_df, on='Customer ID')\n",
        "merged_df = pd.merge(merged_df, services_df, on='Customer ID')\n",
        "merged_df = pd.merge(merged_df, status_df, on='Customer ID')\n",
        "\n",
        "\n",
        "# Merge Population data\n",
        "merged_df = pd.merge(merged_df, population_df, on='Zip Code')\n",
        "df = merged_df\n"
      ],
      "metadata": {
        "colab": {
          "base_uri": "https://localhost:8080/"
        },
        "id": "QX4ixHKFJ2pI",
        "outputId": "b8081310-5118-4f1c-cda1-aae133718335"
      },
      "execution_count": 7,
      "outputs": [
        {
          "output_type": "stream",
          "name": "stderr",
          "text": [
            "<ipython-input-7-df131a552093>:4: FutureWarning: Passing 'suffixes' which cause duplicate columns {'Count_x'} in the result is deprecated and will raise a MergeError in a future version.\n",
            "  merged_df = pd.merge(merged_df, status_df, on='Customer ID')\n"
          ]
        }
      ]
    },
    {
      "cell_type": "code",
      "source": [
        "df.columns"
      ],
      "metadata": {
        "colab": {
          "base_uri": "https://localhost:8080/"
        },
        "id": "Jy1hFiFaVVd8",
        "outputId": "3e49ba0d-8f92-48f8-db14-689caf0eb7a4"
      },
      "execution_count": 8,
      "outputs": [
        {
          "output_type": "execute_result",
          "data": {
            "text/plain": [
              "Index(['Customer ID', 'Count_x', 'Gender', 'Age', 'Under 30', 'Senior Citizen',\n",
              "       'Married', 'Dependents', 'Number of Dependents', 'Count_y', 'Country',\n",
              "       'State', 'City', 'Zip Code', 'Lat Long', 'Latitude', 'Longitude',\n",
              "       'Count_x', 'Quarter_x', 'Referred a Friend', 'Number of Referrals',\n",
              "       'Tenure in Months', 'Offer', 'Phone Service',\n",
              "       'Avg Monthly Long Distance Charges', 'Multiple Lines',\n",
              "       'Internet Service', 'Internet Type', 'Avg Monthly GB Download',\n",
              "       'Online Security', 'Online Backup', 'Device Protection Plan',\n",
              "       'Premium Tech Support', 'Streaming TV', 'Streaming Movies',\n",
              "       'Streaming Music', 'Unlimited Data', 'Contract', 'Paperless Billing',\n",
              "       'Payment Method', 'Monthly Charge', 'Total Charges', 'Total Refunds',\n",
              "       'Total Extra Data Charges', 'Total Long Distance Charges',\n",
              "       'Total Revenue', 'Count_y', 'Quarter_y', 'Satisfaction Score',\n",
              "       'Customer Status', 'Churn Label', 'Churn Value', 'Churn Score', 'CLTV',\n",
              "       'Churn Category', 'Churn Reason', 'ID', 'Population'],\n",
              "      dtype='object')"
            ]
          },
          "metadata": {},
          "execution_count": 8
        }
      ]
    },
    {
      "cell_type": "code",
      "source": [
        "# Identify and remove duplicate columns\n",
        "duplicate_columns = []\n",
        "for col in df.columns:\n",
        "    if col.endswith('_x') or col.endswith('_y'):\n",
        "        duplicate_columns.append(col)\n",
        "\n",
        "print(\"Duplicate columns:\", duplicate_columns)\n",
        "\n",
        "df.drop(columns=duplicate_columns, inplace=True)"
      ],
      "metadata": {
        "colab": {
          "base_uri": "https://localhost:8080/"
        },
        "id": "RRJZs1ggVarT",
        "outputId": "139cc2f6-fdb0-4034-f8cc-27202cbe2d26"
      },
      "execution_count": 9,
      "outputs": [
        {
          "output_type": "stream",
          "name": "stdout",
          "text": [
            "Duplicate columns: ['Count_x', 'Count_y', 'Count_x', 'Quarter_x', 'Count_y', 'Quarter_y']\n"
          ]
        }
      ]
    },
    {
      "cell_type": "code",
      "source": [
        "df.columns"
      ],
      "metadata": {
        "colab": {
          "base_uri": "https://localhost:8080/"
        },
        "id": "Shgj2NmEVopT",
        "outputId": "2583c095-0cd2-4a01-c9e3-e2a0d15a4de7"
      },
      "execution_count": 10,
      "outputs": [
        {
          "output_type": "execute_result",
          "data": {
            "text/plain": [
              "Index(['Customer ID', 'Gender', 'Age', 'Under 30', 'Senior Citizen', 'Married',\n",
              "       'Dependents', 'Number of Dependents', 'Country', 'State', 'City',\n",
              "       'Zip Code', 'Lat Long', 'Latitude', 'Longitude', 'Referred a Friend',\n",
              "       'Number of Referrals', 'Tenure in Months', 'Offer', 'Phone Service',\n",
              "       'Avg Monthly Long Distance Charges', 'Multiple Lines',\n",
              "       'Internet Service', 'Internet Type', 'Avg Monthly GB Download',\n",
              "       'Online Security', 'Online Backup', 'Device Protection Plan',\n",
              "       'Premium Tech Support', 'Streaming TV', 'Streaming Movies',\n",
              "       'Streaming Music', 'Unlimited Data', 'Contract', 'Paperless Billing',\n",
              "       'Payment Method', 'Monthly Charge', 'Total Charges', 'Total Refunds',\n",
              "       'Total Extra Data Charges', 'Total Long Distance Charges',\n",
              "       'Total Revenue', 'Satisfaction Score', 'Customer Status', 'Churn Label',\n",
              "       'Churn Value', 'Churn Score', 'CLTV', 'Churn Category', 'Churn Reason',\n",
              "       'ID', 'Population'],\n",
              "      dtype='object')"
            ]
          },
          "metadata": {},
          "execution_count": 10
        }
      ]
    },
    {
      "cell_type": "markdown",
      "source": [
        "# Data Cleaning\n",
        "The below steps are followed:\n",
        "1. Check and fill in for the missing values\n",
        "2. Check and remove duplicate rows"
      ],
      "metadata": {
        "id": "EaoOVXIMLOwa"
      }
    },
    {
      "cell_type": "code",
      "source": [
        "# 1. Checking for any missing values\n",
        "print(df.isnull().sum())"
      ],
      "metadata": {
        "colab": {
          "base_uri": "https://localhost:8080/"
        },
        "id": "jE7NHZMy7Brt",
        "outputId": "fb930627-537d-4341-d2f1-28fb74deb3cf"
      },
      "execution_count": 11,
      "outputs": [
        {
          "output_type": "stream",
          "name": "stdout",
          "text": [
            "Customer ID                             0\n",
            "Gender                                  0\n",
            "Age                                     0\n",
            "Under 30                                0\n",
            "Senior Citizen                          0\n",
            "Married                                 0\n",
            "Dependents                              0\n",
            "Number of Dependents                    0\n",
            "Country                                 0\n",
            "State                                   0\n",
            "City                                    0\n",
            "Zip Code                                0\n",
            "Lat Long                                0\n",
            "Latitude                                0\n",
            "Longitude                               0\n",
            "Referred a Friend                       0\n",
            "Number of Referrals                     0\n",
            "Tenure in Months                        0\n",
            "Offer                                   0\n",
            "Phone Service                           0\n",
            "Avg Monthly Long Distance Charges       0\n",
            "Multiple Lines                          0\n",
            "Internet Service                        0\n",
            "Internet Type                           0\n",
            "Avg Monthly GB Download                 0\n",
            "Online Security                         0\n",
            "Online Backup                           0\n",
            "Device Protection Plan                  0\n",
            "Premium Tech Support                    0\n",
            "Streaming TV                            0\n",
            "Streaming Movies                        0\n",
            "Streaming Music                         0\n",
            "Unlimited Data                          0\n",
            "Contract                                0\n",
            "Paperless Billing                       0\n",
            "Payment Method                          0\n",
            "Monthly Charge                          0\n",
            "Total Charges                           0\n",
            "Total Refunds                           0\n",
            "Total Extra Data Charges                0\n",
            "Total Long Distance Charges             0\n",
            "Total Revenue                           0\n",
            "Satisfaction Score                      0\n",
            "Customer Status                         0\n",
            "Churn Label                             0\n",
            "Churn Value                             0\n",
            "Churn Score                             0\n",
            "CLTV                                    0\n",
            "Churn Category                       5174\n",
            "Churn Reason                         5174\n",
            "ID                                      0\n",
            "Population                              0\n",
            "dtype: int64\n"
          ]
        }
      ]
    },
    {
      "cell_type": "code",
      "source": [
        "# We can see that Churn Reason and Churn Category has a lot of missing values.\n",
        "# This is expected because for customers who have not churned, there isn't any reason.\n",
        "# So we will fill in the missing values with either NA or Not churned based on their churn status\n",
        "\n",
        "\n",
        "df.loc[(df['Churn Reason'].isnull()) & (df['Churn Value'] == 1), 'Churn Reason'] = 'NA'\n",
        "df.loc[(df['Churn Reason'].isnull()) & (df['Churn Value'] == 0), 'Churn Reason'] = 'Not Churned'\n",
        "\n",
        "df.loc[(df['Churn Category'].isnull()) & (df['Churn Value'] == 1), 'Churn Category'] = 'NA'\n",
        "df.loc[(df['Churn Category'].isnull()) & (df['Churn Value'] == 0), 'Churn Category'] = 'Not Churned'\n",
        "\n",
        "# Checking for missing values to verify\n",
        "print(df.isnull().sum())"
      ],
      "metadata": {
        "colab": {
          "base_uri": "https://localhost:8080/"
        },
        "id": "StJbKtQX9R49",
        "outputId": "597df6eb-43b9-4a3c-ce6d-698235fce2b3"
      },
      "execution_count": 12,
      "outputs": [
        {
          "output_type": "stream",
          "name": "stdout",
          "text": [
            "Customer ID                          0\n",
            "Gender                               0\n",
            "Age                                  0\n",
            "Under 30                             0\n",
            "Senior Citizen                       0\n",
            "Married                              0\n",
            "Dependents                           0\n",
            "Number of Dependents                 0\n",
            "Country                              0\n",
            "State                                0\n",
            "City                                 0\n",
            "Zip Code                             0\n",
            "Lat Long                             0\n",
            "Latitude                             0\n",
            "Longitude                            0\n",
            "Referred a Friend                    0\n",
            "Number of Referrals                  0\n",
            "Tenure in Months                     0\n",
            "Offer                                0\n",
            "Phone Service                        0\n",
            "Avg Monthly Long Distance Charges    0\n",
            "Multiple Lines                       0\n",
            "Internet Service                     0\n",
            "Internet Type                        0\n",
            "Avg Monthly GB Download              0\n",
            "Online Security                      0\n",
            "Online Backup                        0\n",
            "Device Protection Plan               0\n",
            "Premium Tech Support                 0\n",
            "Streaming TV                         0\n",
            "Streaming Movies                     0\n",
            "Streaming Music                      0\n",
            "Unlimited Data                       0\n",
            "Contract                             0\n",
            "Paperless Billing                    0\n",
            "Payment Method                       0\n",
            "Monthly Charge                       0\n",
            "Total Charges                        0\n",
            "Total Refunds                        0\n",
            "Total Extra Data Charges             0\n",
            "Total Long Distance Charges          0\n",
            "Total Revenue                        0\n",
            "Satisfaction Score                   0\n",
            "Customer Status                      0\n",
            "Churn Label                          0\n",
            "Churn Value                          0\n",
            "Churn Score                          0\n",
            "CLTV                                 0\n",
            "Churn Category                       0\n",
            "Churn Reason                         0\n",
            "ID                                   0\n",
            "Population                           0\n",
            "dtype: int64\n"
          ]
        }
      ]
    },
    {
      "cell_type": "code",
      "source": [
        "# 2. Checking for any duplicate rows\n",
        "df = df.drop_duplicates()"
      ],
      "metadata": {
        "id": "Yc2-SNjj9nwJ"
      },
      "execution_count": 13,
      "outputs": []
    },
    {
      "cell_type": "markdown",
      "source": [
        "# Exploratory Data Analysis"
      ],
      "metadata": {
        "id": "Zfyv3PYGtiXH"
      }
    },
    {
      "cell_type": "code",
      "source": [
        "df.head()"
      ],
      "metadata": {
        "colab": {
          "base_uri": "https://localhost:8080/",
          "height": 357
        },
        "id": "g81J1J3Vx1RU",
        "outputId": "601e5fa8-92f9-4e03-f221-b57d60d13250"
      },
      "execution_count": 14,
      "outputs": [
        {
          "output_type": "execute_result",
          "data": {
            "text/plain": [
              "  Customer ID  Gender  Age Under 30 Senior Citizen Married Dependents  \\\n",
              "0  8779-QRDMV    Male   78       No            Yes      No         No   \n",
              "1  4737-AQCPU    Male   39       No             No     Yes         No   \n",
              "2  5043-TRZWM  Female   32       No             No      No         No   \n",
              "3  8165-CBKXO    Male   35       No             No     Yes        Yes   \n",
              "4  9979-RGMZT  Female   20      Yes             No      No         No   \n",
              "\n",
              "   Number of Dependents        Country       State  ... Satisfaction Score  \\\n",
              "0                     0  United States  California  ...                  3   \n",
              "1                     0  United States  California  ...                  3   \n",
              "2                     0  United States  California  ...                  5   \n",
              "3                     3  United States  California  ...                  3   \n",
              "4                     0  United States  California  ...                  3   \n",
              "\n",
              "   Customer Status Churn Label  Churn Value  Churn Score  CLTV  \\\n",
              "0          Churned         Yes            1           91  5433   \n",
              "1           Stayed          No            0           42  4658   \n",
              "2           Joined          No            0           34  3503   \n",
              "3           Stayed          No            0           46  5748   \n",
              "4           Stayed          No            0           38  5545   \n",
              "\n",
              "   Churn Category                  Churn Reason  ID Population  \n",
              "0      Competitor  Competitor offered more data  21      68701  \n",
              "1     Not Churned                   Not Churned  21      68701  \n",
              "2     Not Churned                   Not Churned  21      68701  \n",
              "3     Not Churned                   Not Churned  21      68701  \n",
              "4     Not Churned                   Not Churned  21      68701  \n",
              "\n",
              "[5 rows x 52 columns]"
            ],
            "text/html": [
              "\n",
              "  <div id=\"df-6435f1f1-1c7f-4090-b017-2f4424466387\" class=\"colab-df-container\">\n",
              "    <div>\n",
              "<style scoped>\n",
              "    .dataframe tbody tr th:only-of-type {\n",
              "        vertical-align: middle;\n",
              "    }\n",
              "\n",
              "    .dataframe tbody tr th {\n",
              "        vertical-align: top;\n",
              "    }\n",
              "\n",
              "    .dataframe thead th {\n",
              "        text-align: right;\n",
              "    }\n",
              "</style>\n",
              "<table border=\"1\" class=\"dataframe\">\n",
              "  <thead>\n",
              "    <tr style=\"text-align: right;\">\n",
              "      <th></th>\n",
              "      <th>Customer ID</th>\n",
              "      <th>Gender</th>\n",
              "      <th>Age</th>\n",
              "      <th>Under 30</th>\n",
              "      <th>Senior Citizen</th>\n",
              "      <th>Married</th>\n",
              "      <th>Dependents</th>\n",
              "      <th>Number of Dependents</th>\n",
              "      <th>Country</th>\n",
              "      <th>State</th>\n",
              "      <th>...</th>\n",
              "      <th>Satisfaction Score</th>\n",
              "      <th>Customer Status</th>\n",
              "      <th>Churn Label</th>\n",
              "      <th>Churn Value</th>\n",
              "      <th>Churn Score</th>\n",
              "      <th>CLTV</th>\n",
              "      <th>Churn Category</th>\n",
              "      <th>Churn Reason</th>\n",
              "      <th>ID</th>\n",
              "      <th>Population</th>\n",
              "    </tr>\n",
              "  </thead>\n",
              "  <tbody>\n",
              "    <tr>\n",
              "      <th>0</th>\n",
              "      <td>8779-QRDMV</td>\n",
              "      <td>Male</td>\n",
              "      <td>78</td>\n",
              "      <td>No</td>\n",
              "      <td>Yes</td>\n",
              "      <td>No</td>\n",
              "      <td>No</td>\n",
              "      <td>0</td>\n",
              "      <td>United States</td>\n",
              "      <td>California</td>\n",
              "      <td>...</td>\n",
              "      <td>3</td>\n",
              "      <td>Churned</td>\n",
              "      <td>Yes</td>\n",
              "      <td>1</td>\n",
              "      <td>91</td>\n",
              "      <td>5433</td>\n",
              "      <td>Competitor</td>\n",
              "      <td>Competitor offered more data</td>\n",
              "      <td>21</td>\n",
              "      <td>68701</td>\n",
              "    </tr>\n",
              "    <tr>\n",
              "      <th>1</th>\n",
              "      <td>4737-AQCPU</td>\n",
              "      <td>Male</td>\n",
              "      <td>39</td>\n",
              "      <td>No</td>\n",
              "      <td>No</td>\n",
              "      <td>Yes</td>\n",
              "      <td>No</td>\n",
              "      <td>0</td>\n",
              "      <td>United States</td>\n",
              "      <td>California</td>\n",
              "      <td>...</td>\n",
              "      <td>3</td>\n",
              "      <td>Stayed</td>\n",
              "      <td>No</td>\n",
              "      <td>0</td>\n",
              "      <td>42</td>\n",
              "      <td>4658</td>\n",
              "      <td>Not Churned</td>\n",
              "      <td>Not Churned</td>\n",
              "      <td>21</td>\n",
              "      <td>68701</td>\n",
              "    </tr>\n",
              "    <tr>\n",
              "      <th>2</th>\n",
              "      <td>5043-TRZWM</td>\n",
              "      <td>Female</td>\n",
              "      <td>32</td>\n",
              "      <td>No</td>\n",
              "      <td>No</td>\n",
              "      <td>No</td>\n",
              "      <td>No</td>\n",
              "      <td>0</td>\n",
              "      <td>United States</td>\n",
              "      <td>California</td>\n",
              "      <td>...</td>\n",
              "      <td>5</td>\n",
              "      <td>Joined</td>\n",
              "      <td>No</td>\n",
              "      <td>0</td>\n",
              "      <td>34</td>\n",
              "      <td>3503</td>\n",
              "      <td>Not Churned</td>\n",
              "      <td>Not Churned</td>\n",
              "      <td>21</td>\n",
              "      <td>68701</td>\n",
              "    </tr>\n",
              "    <tr>\n",
              "      <th>3</th>\n",
              "      <td>8165-CBKXO</td>\n",
              "      <td>Male</td>\n",
              "      <td>35</td>\n",
              "      <td>No</td>\n",
              "      <td>No</td>\n",
              "      <td>Yes</td>\n",
              "      <td>Yes</td>\n",
              "      <td>3</td>\n",
              "      <td>United States</td>\n",
              "      <td>California</td>\n",
              "      <td>...</td>\n",
              "      <td>3</td>\n",
              "      <td>Stayed</td>\n",
              "      <td>No</td>\n",
              "      <td>0</td>\n",
              "      <td>46</td>\n",
              "      <td>5748</td>\n",
              "      <td>Not Churned</td>\n",
              "      <td>Not Churned</td>\n",
              "      <td>21</td>\n",
              "      <td>68701</td>\n",
              "    </tr>\n",
              "    <tr>\n",
              "      <th>4</th>\n",
              "      <td>9979-RGMZT</td>\n",
              "      <td>Female</td>\n",
              "      <td>20</td>\n",
              "      <td>Yes</td>\n",
              "      <td>No</td>\n",
              "      <td>No</td>\n",
              "      <td>No</td>\n",
              "      <td>0</td>\n",
              "      <td>United States</td>\n",
              "      <td>California</td>\n",
              "      <td>...</td>\n",
              "      <td>3</td>\n",
              "      <td>Stayed</td>\n",
              "      <td>No</td>\n",
              "      <td>0</td>\n",
              "      <td>38</td>\n",
              "      <td>5545</td>\n",
              "      <td>Not Churned</td>\n",
              "      <td>Not Churned</td>\n",
              "      <td>21</td>\n",
              "      <td>68701</td>\n",
              "    </tr>\n",
              "  </tbody>\n",
              "</table>\n",
              "<p>5 rows × 52 columns</p>\n",
              "</div>\n",
              "    <div class=\"colab-df-buttons\">\n",
              "\n",
              "  <div class=\"colab-df-container\">\n",
              "    <button class=\"colab-df-convert\" onclick=\"convertToInteractive('df-6435f1f1-1c7f-4090-b017-2f4424466387')\"\n",
              "            title=\"Convert this dataframe to an interactive table.\"\n",
              "            style=\"display:none;\">\n",
              "\n",
              "  <svg xmlns=\"http://www.w3.org/2000/svg\" height=\"24px\" viewBox=\"0 -960 960 960\">\n",
              "    <path d=\"M120-120v-720h720v720H120Zm60-500h600v-160H180v160Zm220 220h160v-160H400v160Zm0 220h160v-160H400v160ZM180-400h160v-160H180v160Zm440 0h160v-160H620v160ZM180-180h160v-160H180v160Zm440 0h160v-160H620v160Z\"/>\n",
              "  </svg>\n",
              "    </button>\n",
              "\n",
              "  <style>\n",
              "    .colab-df-container {\n",
              "      display:flex;\n",
              "      gap: 12px;\n",
              "    }\n",
              "\n",
              "    .colab-df-convert {\n",
              "      background-color: #E8F0FE;\n",
              "      border: none;\n",
              "      border-radius: 50%;\n",
              "      cursor: pointer;\n",
              "      display: none;\n",
              "      fill: #1967D2;\n",
              "      height: 32px;\n",
              "      padding: 0 0 0 0;\n",
              "      width: 32px;\n",
              "    }\n",
              "\n",
              "    .colab-df-convert:hover {\n",
              "      background-color: #E2EBFA;\n",
              "      box-shadow: 0px 1px 2px rgba(60, 64, 67, 0.3), 0px 1px 3px 1px rgba(60, 64, 67, 0.15);\n",
              "      fill: #174EA6;\n",
              "    }\n",
              "\n",
              "    .colab-df-buttons div {\n",
              "      margin-bottom: 4px;\n",
              "    }\n",
              "\n",
              "    [theme=dark] .colab-df-convert {\n",
              "      background-color: #3B4455;\n",
              "      fill: #D2E3FC;\n",
              "    }\n",
              "\n",
              "    [theme=dark] .colab-df-convert:hover {\n",
              "      background-color: #434B5C;\n",
              "      box-shadow: 0px 1px 3px 1px rgba(0, 0, 0, 0.15);\n",
              "      filter: drop-shadow(0px 1px 2px rgba(0, 0, 0, 0.3));\n",
              "      fill: #FFFFFF;\n",
              "    }\n",
              "  </style>\n",
              "\n",
              "    <script>\n",
              "      const buttonEl =\n",
              "        document.querySelector('#df-6435f1f1-1c7f-4090-b017-2f4424466387 button.colab-df-convert');\n",
              "      buttonEl.style.display =\n",
              "        google.colab.kernel.accessAllowed ? 'block' : 'none';\n",
              "\n",
              "      async function convertToInteractive(key) {\n",
              "        const element = document.querySelector('#df-6435f1f1-1c7f-4090-b017-2f4424466387');\n",
              "        const dataTable =\n",
              "          await google.colab.kernel.invokeFunction('convertToInteractive',\n",
              "                                                    [key], {});\n",
              "        if (!dataTable) return;\n",
              "\n",
              "        const docLinkHtml = 'Like what you see? Visit the ' +\n",
              "          '<a target=\"_blank\" href=https://colab.research.google.com/notebooks/data_table.ipynb>data table notebook</a>'\n",
              "          + ' to learn more about interactive tables.';\n",
              "        element.innerHTML = '';\n",
              "        dataTable['output_type'] = 'display_data';\n",
              "        await google.colab.output.renderOutput(dataTable, element);\n",
              "        const docLink = document.createElement('div');\n",
              "        docLink.innerHTML = docLinkHtml;\n",
              "        element.appendChild(docLink);\n",
              "      }\n",
              "    </script>\n",
              "  </div>\n",
              "\n",
              "\n",
              "<div id=\"df-f878ebd5-0f1c-4971-957a-2abc6b4dcd9c\">\n",
              "  <button class=\"colab-df-quickchart\" onclick=\"quickchart('df-f878ebd5-0f1c-4971-957a-2abc6b4dcd9c')\"\n",
              "            title=\"Suggest charts\"\n",
              "            style=\"display:none;\">\n",
              "\n",
              "<svg xmlns=\"http://www.w3.org/2000/svg\" height=\"24px\"viewBox=\"0 0 24 24\"\n",
              "     width=\"24px\">\n",
              "    <g>\n",
              "        <path d=\"M19 3H5c-1.1 0-2 .9-2 2v14c0 1.1.9 2 2 2h14c1.1 0 2-.9 2-2V5c0-1.1-.9-2-2-2zM9 17H7v-7h2v7zm4 0h-2V7h2v10zm4 0h-2v-4h2v4z\"/>\n",
              "    </g>\n",
              "</svg>\n",
              "  </button>\n",
              "\n",
              "<style>\n",
              "  .colab-df-quickchart {\n",
              "      --bg-color: #E8F0FE;\n",
              "      --fill-color: #1967D2;\n",
              "      --hover-bg-color: #E2EBFA;\n",
              "      --hover-fill-color: #174EA6;\n",
              "      --disabled-fill-color: #AAA;\n",
              "      --disabled-bg-color: #DDD;\n",
              "  }\n",
              "\n",
              "  [theme=dark] .colab-df-quickchart {\n",
              "      --bg-color: #3B4455;\n",
              "      --fill-color: #D2E3FC;\n",
              "      --hover-bg-color: #434B5C;\n",
              "      --hover-fill-color: #FFFFFF;\n",
              "      --disabled-bg-color: #3B4455;\n",
              "      --disabled-fill-color: #666;\n",
              "  }\n",
              "\n",
              "  .colab-df-quickchart {\n",
              "    background-color: var(--bg-color);\n",
              "    border: none;\n",
              "    border-radius: 50%;\n",
              "    cursor: pointer;\n",
              "    display: none;\n",
              "    fill: var(--fill-color);\n",
              "    height: 32px;\n",
              "    padding: 0;\n",
              "    width: 32px;\n",
              "  }\n",
              "\n",
              "  .colab-df-quickchart:hover {\n",
              "    background-color: var(--hover-bg-color);\n",
              "    box-shadow: 0 1px 2px rgba(60, 64, 67, 0.3), 0 1px 3px 1px rgba(60, 64, 67, 0.15);\n",
              "    fill: var(--button-hover-fill-color);\n",
              "  }\n",
              "\n",
              "  .colab-df-quickchart-complete:disabled,\n",
              "  .colab-df-quickchart-complete:disabled:hover {\n",
              "    background-color: var(--disabled-bg-color);\n",
              "    fill: var(--disabled-fill-color);\n",
              "    box-shadow: none;\n",
              "  }\n",
              "\n",
              "  .colab-df-spinner {\n",
              "    border: 2px solid var(--fill-color);\n",
              "    border-color: transparent;\n",
              "    border-bottom-color: var(--fill-color);\n",
              "    animation:\n",
              "      spin 1s steps(1) infinite;\n",
              "  }\n",
              "\n",
              "  @keyframes spin {\n",
              "    0% {\n",
              "      border-color: transparent;\n",
              "      border-bottom-color: var(--fill-color);\n",
              "      border-left-color: var(--fill-color);\n",
              "    }\n",
              "    20% {\n",
              "      border-color: transparent;\n",
              "      border-left-color: var(--fill-color);\n",
              "      border-top-color: var(--fill-color);\n",
              "    }\n",
              "    30% {\n",
              "      border-color: transparent;\n",
              "      border-left-color: var(--fill-color);\n",
              "      border-top-color: var(--fill-color);\n",
              "      border-right-color: var(--fill-color);\n",
              "    }\n",
              "    40% {\n",
              "      border-color: transparent;\n",
              "      border-right-color: var(--fill-color);\n",
              "      border-top-color: var(--fill-color);\n",
              "    }\n",
              "    60% {\n",
              "      border-color: transparent;\n",
              "      border-right-color: var(--fill-color);\n",
              "    }\n",
              "    80% {\n",
              "      border-color: transparent;\n",
              "      border-right-color: var(--fill-color);\n",
              "      border-bottom-color: var(--fill-color);\n",
              "    }\n",
              "    90% {\n",
              "      border-color: transparent;\n",
              "      border-bottom-color: var(--fill-color);\n",
              "    }\n",
              "  }\n",
              "</style>\n",
              "\n",
              "  <script>\n",
              "    async function quickchart(key) {\n",
              "      const quickchartButtonEl =\n",
              "        document.querySelector('#' + key + ' button');\n",
              "      quickchartButtonEl.disabled = true;  // To prevent multiple clicks.\n",
              "      quickchartButtonEl.classList.add('colab-df-spinner');\n",
              "      try {\n",
              "        const charts = await google.colab.kernel.invokeFunction(\n",
              "            'suggestCharts', [key], {});\n",
              "      } catch (error) {\n",
              "        console.error('Error during call to suggestCharts:', error);\n",
              "      }\n",
              "      quickchartButtonEl.classList.remove('colab-df-spinner');\n",
              "      quickchartButtonEl.classList.add('colab-df-quickchart-complete');\n",
              "    }\n",
              "    (() => {\n",
              "      let quickchartButtonEl =\n",
              "        document.querySelector('#df-f878ebd5-0f1c-4971-957a-2abc6b4dcd9c button');\n",
              "      quickchartButtonEl.style.display =\n",
              "        google.colab.kernel.accessAllowed ? 'block' : 'none';\n",
              "    })();\n",
              "  </script>\n",
              "</div>\n",
              "\n",
              "    </div>\n",
              "  </div>\n"
            ]
          },
          "metadata": {},
          "execution_count": 14
        }
      ]
    },
    {
      "cell_type": "code",
      "source": [
        "import pandas as pd\n",
        "import seaborn as sns\n",
        "import matplotlib.pyplot as plt\n",
        "\n",
        "# Assuming df is your actual dataframe\n",
        "# df = pd.read_csv('your_dataset.csv')  # If you need to load the dataset\n",
        "\n",
        "# Group by 'Satisfaction Score' and 'Churn Label', and count the occurrences\n",
        "grouped_df = df.groupby(['Satisfaction Score', 'Churn Label']).size().reset_index(name='Count')\n",
        "\n",
        "# Create a bar graph\n",
        "plt.figure(figsize=(6, 4))\n",
        "barplot = sns.barplot(\n",
        "    data=grouped_df,\n",
        "    x='Satisfaction Score',\n",
        "    y='Count',\n",
        "    hue='Churn Label',\n",
        "    ci=None  # Remove the confidence interval lines\n",
        ")\n",
        "\n",
        "# Set the title and labels\n",
        "barplot.set_title('Churn Frequency by Satisfaction Score')\n",
        "barplot.set_xlabel('Satisfaction Score')\n",
        "barplot.set_ylabel('Count')\n",
        "\n",
        "# Display the plot\n",
        "plt.tight_layout()\n",
        "plt.show()"
      ],
      "metadata": {
        "colab": {
          "base_uri": "https://localhost:8080/",
          "height": 494
        },
        "id": "2e3DJX9Qx5aq",
        "outputId": "22041b9f-52a7-4a67-824a-3e5b11daed4e"
      },
      "execution_count": 15,
      "outputs": [
        {
          "output_type": "stream",
          "name": "stderr",
          "text": [
            "<ipython-input-15-05d7b4ecebb9>:13: FutureWarning: \n",
            "\n",
            "The `ci` parameter is deprecated. Use `errorbar=None` for the same effect.\n",
            "\n",
            "  barplot = sns.barplot(\n"
          ]
        },
        {
          "output_type": "display_data",
          "data": {
            "text/plain": [
              "<Figure size 600x400 with 1 Axes>"
            ],
            "image/png": "[encoded data removed]"
          },
          "metadata": {}
        }
      ]
    },
    {
      "cell_type": "code",
      "source": [
        "import pandas as pd\n",
        "import seaborn as sns\n",
        "import matplotlib.pyplot as plt\n",
        "\n",
        "# Assuming df is your actual dataframe\n",
        "# df = pd.read_csv('your_dataset.csv')  # If you need to load the dataset\n",
        "\n",
        "# Group by 'Contract' and 'Churn Label', and count the occurrences\n",
        "grouped_df = df.groupby(['Contract', 'Churn Label']).size().reset_index(name='Count')\n",
        "\n",
        "# Create a bar graph\n",
        "plt.figure(figsize=(10, 6))\n",
        "barplot = sns.barplot(\n",
        "    data=grouped_df,\n",
        "    x='Contract',\n",
        "    y='Count',\n",
        "    hue='Churn Label',\n",
        "    ci=None  # Remove the confidence interval lines\n",
        ")\n",
        "\n",
        "# Set the title and labels\n",
        "barplot.set_title('Churn Frequency by Contract Type')\n",
        "barplot.set_xlabel('Contract Type')\n",
        "barplot.set_ylabel('Count')\n",
        "\n",
        "# Display the plot\n",
        "plt.tight_layout()\n",
        "plt.show()\n"
      ],
      "metadata": {
        "colab": {
          "base_uri": "https://localhost:8080/",
          "height": 694
        },
        "id": "SSREMSrzx9JA",
        "outputId": "c6b6fb96-7c16-42e2-b446-a13288420d29"
      },
      "execution_count": 16,
      "outputs": [
        {
          "output_type": "stream",
          "name": "stderr",
          "text": [
            "<ipython-input-16-0dbd3593832f>:13: FutureWarning: \n",
            "\n",
            "The `ci` parameter is deprecated. Use `errorbar=None` for the same effect.\n",
            "\n",
            "  barplot = sns.barplot(\n"
          ]
        },
        {
          "output_type": "display_data",
          "data": {
            "text/plain": [
              "<Figure size 1000x600 with 1 Axes>"
            ],
            "image/png": "[encoded data removed]"
          },
          "metadata": {}
        }
      ]
    },
    {
      "cell_type": "code",
      "source": [
        "import pandas as pd\n",
        "import matplotlib.pyplot as plt\n",
        "\n",
        "# Assuming df is your actual dataframe\n",
        "# df = pd.read_csv('your_dataset.csv')  # Load your dataset\n",
        "\n",
        "# Filter the dataset for churn label 'Yes'\n",
        "churn_yes_df = df[df['Churn Label'] == 'Yes']\n",
        "\n",
        "# Group by 'Zip Code' and count the occurrences\n",
        "grouped_df = churn_yes_df.groupby('Zip Code').size().reset_index(name='Count')\n",
        "\n",
        "# Sort and select the top 10 zip codes\n",
        "top_zip_codes = grouped_df.sort_values(by='Count', ascending=False).head(10)\n",
        "\n",
        "# Create labels that include both zip code and count\n",
        "labels = [f'{row[\"Zip Code\"]} (n={row[\"Count\"]})' for index, row in top_zip_codes.iterrows()]\n",
        "\n",
        "# Create a pie chart\n",
        "plt.figure(figsize=(8, 6))\n",
        "plt.pie(top_zip_codes['Count'], labels=labels, autopct='%1.1f%%', startangle=140)\n",
        "plt.title('Top 10 Zip Codes for Churn (Yes) with Count')\n",
        "plt.axis('equal')  # Equal aspect ratio ensures the pie chart is circular\n",
        "\n",
        "# Display the plot\n",
        "plt.show()\n"
      ],
      "metadata": {
        "colab": {
          "base_uri": "https://localhost:8080/",
          "height": 526
        },
        "id": "qDGn_5-hyA4B",
        "outputId": "8daf366f-ab11-47f9-bea5-74ddef8ae33d"
      },
      "execution_count": 17,
      "outputs": [
        {
          "output_type": "display_data",
          "data": {
            "text/plain": [
              "<Figure size 800x600 with 1 Axes>"
            ],
            "image/png": "[encoded data removed]"
          },
          "metadata": {}
        }
      ]
    },
    {
      "cell_type": "code",
      "source": [
        "sns.set_style(\"whitegrid\")\n",
        "\n",
        "# Customers who didn't churn\n",
        "sns.kdeplot(data=df[df[\"Churn Label\"] == 'No']['Total Charges'],\n",
        "            color=\"SkyBlue\", shade=True, label=\"No Churn\")\n",
        "\n",
        "# Customers who did churn\n",
        "sns.kdeplot(data=df[df[\"Churn Label\"] == 'Yes']['Total Charges'],\n",
        "            color=\"Crimson\", shade=True, fill=True, label=\"Churn\")\n",
        "\n",
        "\n",
        "plt.legend(title=\"Customer Status\")\n",
        "\n",
        "plt.ylabel('Frequency', fontsize=12, fontweight='bold')\n",
        "plt.xlabel('Total Charges', fontsize=12, fontweight='bold')\n",
        "plt.title('Total Charges vs Customer Churn', fontsize=14, fontweight='bold')\n",
        "\n",
        "# Display the plot\n",
        "plt.show()"
      ],
      "metadata": {
        "colab": {
          "base_uri": "https://localhost:8080/",
          "height": 685
        },
        "id": "wR832-38yDk0",
        "outputId": "b41eb01a-b365-4ebb-d688-c7f5db5dc6d2"
      },
      "execution_count": 18,
      "outputs": [
        {
          "output_type": "stream",
          "name": "stderr",
          "text": [
            "<ipython-input-18-f5321aaa2549>:4: FutureWarning: \n",
            "\n",
            "`shade` is now deprecated in favor of `fill`; setting `fill=True`.\n",
            "This will become an error in seaborn v0.14.0; please update your code.\n",
            "\n",
            "  sns.kdeplot(data=df[df[\"Churn Label\"] == 'No']['Total Charges'],\n",
            "<ipython-input-18-f5321aaa2549>:8: FutureWarning: \n",
            "\n",
            "`shade` is now deprecated in favor of `fill`; setting `fill=True`.\n",
            "This will become an error in seaborn v0.14.0; please update your code.\n",
            "\n",
            "  sns.kdeplot(data=df[df[\"Churn Label\"] == 'Yes']['Total Charges'],\n"
          ]
        },
        {
          "output_type": "display_data",
          "data": {
            "text/plain": [
              "<Figure size 640x480 with 1 Axes>"
            ],
            "image/png": "[encoded data removed]"
          },
          "metadata": {}
        }
      ]
    },
    {
      "cell_type": "markdown",
      "source": [
        "# Feature Engineering\n",
        "\n",
        "In this step, we will analyse and choose the most relevant features to train our model. We can create a summary of each feature to understand which of the features are more important to predict the churn outcome.\n"
      ],
      "metadata": {
        "id": "7JQSPcC6L_0P"
      }
    },
    {
      "cell_type": "code",
      "source": [
        "# 1. Create feature summary\n",
        "feature_summary = []\n",
        "\n",
        "for feature in df.columns:\n",
        "    unique_values = np.unique(df[feature].astype(str))\n",
        "    feature_summary.append({\n",
        "        \"column_name\": feature,\n",
        "        'unique_value_count': len(unique_values),\n",
        "        'total_count': len(df),\n",
        "        'unique_values': unique_values,\n",
        "        'Datatype': df[feature].dtype\n",
        "    })\n",
        "\n",
        "print(pd.DataFrame(feature_summary))"
      ],
      "metadata": {
        "colab": {
          "base_uri": "https://localhost:8080/"
        },
        "id": "2MZYmiERKdIf",
        "outputId": "0dbc4c07-bd36-4c54-b9bf-08e1c8db7014"
      },
      "execution_count": 19,
      "outputs": [
        {
          "output_type": "stream",
          "name": "stdout",
          "text": [
            "                          column_name  unique_value_count  total_count  \\\n",
            "0                         Customer ID                7043         7043   \n",
            "1                              Gender                   2         7043   \n",
            "2                                 Age                  62         7043   \n",
            "3                            Under 30                   2         7043   \n",
            "4                      Senior Citizen                   2         7043   \n",
            "5                             Married                   2         7043   \n",
            "6                          Dependents                   2         7043   \n",
            "7                Number of Dependents                  10         7043   \n",
            "8                             Country                   1         7043   \n",
            "9                               State                   1         7043   \n",
            "10                               City                1106         7043   \n",
            "11                           Zip Code                1626         7043   \n",
            "12                           Lat Long                1679         7043   \n",
            "13                           Latitude                1626         7043   \n",
            "14                          Longitude                1625         7043   \n",
            "15                  Referred a Friend                   2         7043   \n",
            "16                Number of Referrals                  12         7043   \n",
            "17                   Tenure in Months                  72         7043   \n",
            "18                              Offer                   6         7043   \n",
            "19                      Phone Service                   2         7043   \n",
            "20  Avg Monthly Long Distance Charges                3584         7043   \n",
            "21                     Multiple Lines                   2         7043   \n",
            "22                   Internet Service                   2         7043   \n",
            "23                      Internet Type                   4         7043   \n",
            "24            Avg Monthly GB Download                  50         7043   \n",
            "25                    Online Security                   2         7043   \n",
            "26                      Online Backup                   2         7043   \n",
            "27             Device Protection Plan                   2         7043   \n",
            "28               Premium Tech Support                   2         7043   \n",
            "29                       Streaming TV                   2         7043   \n",
            "30                   Streaming Movies                   2         7043   \n",
            "31                    Streaming Music                   2         7043   \n",
            "32                     Unlimited Data                   2         7043   \n",
            "33                           Contract                   3         7043   \n",
            "34                  Paperless Billing                   2         7043   \n",
            "35                     Payment Method                   3         7043   \n",
            "36                     Monthly Charge                1585         7043   \n",
            "37                      Total Charges                6540         7043   \n",
            "38                      Total Refunds                 500         7043   \n",
            "39           Total Extra Data Charges                  16         7043   \n",
            "40        Total Long Distance Charges                6110         7043   \n",
            "41                      Total Revenue                6996         7043   \n",
            "42                 Satisfaction Score                   5         7043   \n",
            "43                    Customer Status                   3         7043   \n",
            "44                        Churn Label                   2         7043   \n",
            "45                        Churn Value                   2         7043   \n",
            "46                        Churn Score                  81         7043   \n",
            "47                               CLTV                3438         7043   \n",
            "48                     Churn Category                   6         7043   \n",
            "49                       Churn Reason                  21         7043   \n",
            "50                                 ID                1626         7043   \n",
            "51                         Population                1569         7043   \n",
            "\n",
            "                                        unique_values Datatype  \n",
            "0   [0002-ORFBO, 0003-MKNFE, 0004-TLHLJ, 0011-IGKF...   object  \n",
            "1                                      [Female, Male]   object  \n",
            "2   [19, 20, 21, 22, 23, 24, 25, 26, 27, 28, 29, 3...    int64  \n",
            "3                                           [No, Yes]   object  \n",
            "4                                           [No, Yes]   object  \n",
            "5                                           [No, Yes]   object  \n",
            "6                                           [No, Yes]   object  \n",
            "7                      [0, 1, 2, 3, 4, 5, 6, 7, 8, 9]    int64  \n",
            "8                                     [United States]   object  \n",
            "9                                        [California]   object  \n",
            "10  [Acampo, Acton, Adelanto, Adin, Agoura Hills, ...   object  \n",
            "11  [90001, 90002, 90003, 90004, 90005, 90006, 900...    int64  \n",
            "12  [32.555828, -117.040073, 32.578103, -117.01297...   object  \n",
            "13  [32.555828, 32.578103, 32.579134, 32.587557, 3...  float64  \n",
            "14  [-114.192901, -114.36514, -114.702256, -114.71...  float64  \n",
            "15                                          [No, Yes]   object  \n",
            "16             [0, 1, 10, 11, 2, 3, 4, 5, 6, 7, 8, 9]    int64  \n",
            "17  [1, 10, 11, 12, 13, 14, 15, 16, 17, 18, 19, 2,...    int64  \n",
            "18  [None, Offer A, Offer B, Offer C, Offer D, Off...   object  \n",
            "19                                          [No, Yes]   object  \n",
            "20  [0.0, 1.01, 1.02, 1.03, 1.05, 1.06, 1.07, 1.08...  float64  \n",
            "21                                          [No, Yes]   object  \n",
            "22                                          [No, Yes]   object  \n",
            "23                    [Cable, DSL, Fiber Optic, None]   object  \n",
            "24  [0, 10, 11, 12, 13, 14, 15, 16, 17, 18, 19, 2,...    int64  \n",
            "25                                          [No, Yes]   object  \n",
            "26                                          [No, Yes]   object  \n",
            "27                                          [No, Yes]   object  \n",
            "28                                          [No, Yes]   object  \n",
            "29                                          [No, Yes]   object  \n",
            "30                                          [No, Yes]   object  \n",
            "31                                          [No, Yes]   object  \n",
            "32                                          [No, Yes]   object  \n",
            "33               [Month-to-Month, One Year, Two Year]   object  \n",
            "34                                          [No, Yes]   object  \n",
            "35       [Bank Withdrawal, Credit Card, Mailed Check]   object  \n",
            "36  [100.0, 100.05, 100.1, 100.15, 100.2, 100.25, ...  float64  \n",
            "37  [100.2, 100.25, 100.35, 100.4, 100.8, 100.9, 1...  float64  \n",
            "38  [0.0, 1.01, 1.09, 1.27, 1.31, 1.48, 1.65, 1.66...  float64  \n",
            "39  [0, 10, 100, 110, 120, 130, 140, 150, 20, 30, ...    int64  \n",
            "40  [0.0, 1.13, 1.15, 1.17, 1.23, 1.28, 1.47, 1.48...  float64  \n",
            "41  [100.03, 100.11000000000001, 100.2, 100.270000...  float64  \n",
            "42                                    [1, 2, 3, 4, 5]    int64  \n",
            "43                          [Churned, Joined, Stayed]   object  \n",
            "44                                          [No, Yes]   object  \n",
            "45                                             [0, 1]    int64  \n",
            "46  [20, 21, 22, 23, 24, 25, 26, 27, 28, 29, 30, 3...    int64  \n",
            "47  [2003, 2004, 2006, 2007, 2008, 2009, 2010, 201...    int64  \n",
            "48  [Attitude, Competitor, Dissatisfaction, Not Ch...   object  \n",
            "49  [Attitude of service provider, Attitude of sup...   object  \n",
            "50  [1, 10, 100, 1000, 1001, 1002, 1003, 1004, 100...    int64  \n",
            "51  [1004, 1005, 1007, 101, 101215, 10147, 10153, ...    int64  \n"
          ]
        }
      ]
    },
    {
      "cell_type": "markdown",
      "source": [
        "**Findings:**\n",
        "1. We can see that features like `CustomerID`, `Country`, `State` are redundant features. They are either unique for each observation or same for all of the observations. There is also `Lat Long` which seems to be a combination of `Latitude` and `Longitude`. They do not contribute much to our prediction.\n",
        "  - TODO: We can remove them to simplify our model.\n",
        "2. We have few binary features like `Gender`, `Under 30`, `Senior Citizen`, `Married`, `Dependents`, `Referred a Friend`, `Phone Service`, `Multiple Lines`, `Internet Service`, `Online Security`, `Online Backup`, `Device Protection Plan`, `Premium Tech Support`, `Streaming TV`, `Streaming Movies`, `Streaming Music`, `Unlimited Data`, and `Paperless Billing`.\n",
        "  - TODO: We can use label encoding for use in modelling where the algorithms need numerical inputs.\n",
        "3. We also have features with multiple categories like `Internet Type`, `Contract`, `Payment Method`, `Customer Status`\n",
        "  - TODO: We can use one-hot encoding for use in modelling where the algorithms need numerical inputs.\n",
        "4. There are also continuous numerical features like `Age`, `Number of Dependents`, `Number of Referrals`, `Tenure in Months`, `Avg Monthly Long Distance Charges`, `Avg Monthly GB Download`, `Monthly Charge`, `Total Charges`, `Total Refunds`, `Total Extra Data Charges`, `Total Long Distance Charges`, `Total Revenue`, `Satisfaction Score`, `CLTV`, `Population`\n",
        "  - TODO: These features might need scaling. Certain algorithms like Logistic Regression, SVMs, Neural Networks assume the features are on the same level.\n",
        "  - TODO: The field type of `Total Charges` is an object type but should be numerical. We can perform data cleaning step to convert this to float.\n",
        "5. There are also high cardinality categorical features like `City`, `Zip Code`.\n",
        "  - TODO: These may require special handling like target encoding or clustering.\n",
        "6. As per the official documentation on the IBM website, the features `Churn Label`, `Churn Value`, `Churn Score`, `Customer Status`, `Churn Category` and `Churn Reason` are all directly associated with the outcome of customer churn.\n",
        "  - TODO: We will use `Churn Value` as our target variable. We will remove the remaining features to prevent data leakage."
      ],
      "metadata": {
        "id": "G7AcWavjMRCE"
      }
    },
    {
      "cell_type": "code",
      "source": [
        "# Removing irrelevant features\n",
        "columns_to_remove = ['Customer ID', 'Country', 'State', 'Lat Long']\n",
        "# columns_to_remove = ['CustomerID', 'Country', 'State', 'Lat Long']\n",
        "df = df.drop(columns=columns_to_remove)\n",
        "\n",
        "# Removing features directly associated with the target variable to prevent Data Leakage\n",
        "columns_to_remove = ['Churn Category', 'Churn Reason', 'Customer Status', 'Churn Score', 'Churn Label']\n",
        "# columns_to_remove = ['Churn Reason', 'Churn Score', 'Churn Label']\n",
        "df = df.drop(columns=columns_to_remove)\n",
        "\n",
        "print(df.head())"
      ],
      "metadata": {
        "colab": {
          "base_uri": "https://localhost:8080/"
        },
        "id": "HYB6oPhNZHQe",
        "outputId": "498745d4-b0d8-47ff-f0e5-262cff38f89e"
      },
      "execution_count": 20,
      "outputs": [
        {
          "output_type": "stream",
          "name": "stdout",
          "text": [
            "   Gender  Age Under 30 Senior Citizen Married Dependents  \\\n",
            "0    Male   78       No            Yes      No         No   \n",
            "1    Male   39       No             No     Yes         No   \n",
            "2  Female   32       No             No      No         No   \n",
            "3    Male   35       No             No     Yes        Yes   \n",
            "4  Female   20      Yes             No      No         No   \n",
            "\n",
            "   Number of Dependents         City  Zip Code  Latitude  ...  Total Charges  \\\n",
            "0                     0  Los Angeles     90022  34.02381  ...          39.65   \n",
            "1                     0  Los Angeles     90022  34.02381  ...        5016.65   \n",
            "2                     0  Los Angeles     90022  34.02381  ...          75.55   \n",
            "3                     3  Los Angeles     90022  34.02381  ...        3708.40   \n",
            "4                     0  Los Angeles     90022  34.02381  ...         633.45   \n",
            "\n",
            "  Total Refunds  Total Extra Data Charges  Total Long Distance Charges  \\\n",
            "0           0.0                        20                         0.00   \n",
            "1           0.0                         0                      3063.60   \n",
            "2           0.0                         0                         7.11   \n",
            "3           0.0                         0                         0.00   \n",
            "4           0.0                         0                       255.43   \n",
            "\n",
            "  Total Revenue Satisfaction Score  Churn Value  CLTV  ID Population  \n",
            "0         59.65                  3            1  5433  21      68701  \n",
            "1       8080.25                  3            0  4658  21      68701  \n",
            "2         82.66                  5            0  3503  21      68701  \n",
            "3       3708.40                  3            0  5748  21      68701  \n",
            "4        888.88                  3            0  5545  21      68701  \n",
            "\n",
            "[5 rows x 43 columns]\n"
          ]
        }
      ]
    },
    {
      "cell_type": "code",
      "source": [
        "# Data Type Conversion for 'TotalCharges'\n",
        "def change_dtype(x):\n",
        "    try:\n",
        "        return float(x)\n",
        "    except ValueError:\n",
        "        return 0\n",
        "\n",
        "df['Total Charges'] = df['Total Charges'].apply(lambda x: change_dtype(x))\n",
        "print(df['Total Charges'].dtype)"
      ],
      "metadata": {
        "colab": {
          "base_uri": "https://localhost:8080/"
        },
        "id": "SP1HcdUjORiz",
        "outputId": "c6135e6c-15af-40fe-9fea-510d47808b3f"
      },
      "execution_count": 21,
      "outputs": [
        {
          "output_type": "stream",
          "name": "stdout",
          "text": [
            "float64\n"
          ]
        }
      ]
    },
    {
      "cell_type": "code",
      "source": [
        "# Handling the high-cardinality categorical feature 'City'\n",
        "\n",
        "# Choosing to drop for now, since one hot encoding will increase the dimensionality drastically.\n",
        "# Label encoding will also be ideal since it imposes artifical ordinal relationships\n",
        "# df.drop(['City'], axis=1, inplace=True)\n",
        "\n",
        "# Frequency encoding\n",
        "city_freq = df['City'].value_counts()\n",
        "df['City'] = df['City'].map(city_freq)"
      ],
      "metadata": {
        "id": "XwPJXG7j0E7j"
      },
      "execution_count": 22,
      "outputs": []
    },
    {
      "cell_type": "code",
      "source": [
        "# Handling the high-cardinality categorical feature 'Zip Code'\n",
        "\n",
        "\n",
        "# Frequency encoding\n",
        "zip_freq = df['Zip Code'].value_counts()\n",
        "df['Zip Code'] = df['Zip Code'].map(zip_freq)\n",
        "\n",
        "# Target encoding\n",
        "# mean_churn_per_zip = df.groupby('Zip Code')['Churn Value'].mean()\n",
        "# df['Zip_Code_Target_Enc'] = df['Zip Code'].map(mean_churn_per_zip)\n",
        "\n",
        "# df.drop('Zip Code', axis=1, inplace=True)"
      ],
      "metadata": {
        "id": "qYwaAZ_dPrqm"
      },
      "execution_count": 23,
      "outputs": []
    },
    {
      "cell_type": "code",
      "source": [
        "# Handling Categorical Features\n",
        "\n",
        "# Label Encoding for binary variables\n",
        "label_cols = [col for col in df.columns if df[col].nunique() == 2 and df[col].dtype == 'object' and col != 'Churn Value']\n",
        "\n",
        "# Apply label encoding\n",
        "label_encoder = LabelEncoder()\n",
        "for col in label_cols:\n",
        "    df[col] = label_encoder.fit_transform(df[col])\n",
        "\n",
        "\n",
        "label_encoder = LabelEncoder()\n",
        "for col in label_cols:\n",
        "    df[col] = label_encoder.fit_transform(df[col])\n",
        "\n",
        "# One-Hot Encoding for non-binary variables\n",
        "one_hot_cols = [col for col in df.columns if df[col].nunique() > 2 and df[col].dtype == 'object']\n",
        "df = pd.get_dummies(df, columns=one_hot_cols)\n",
        "\n",
        "print(df.head())"
      ],
      "metadata": {
        "colab": {
          "base_uri": "https://localhost:8080/"
        },
        "id": "zE3LwNtKW3wR",
        "outputId": "0564f65f-8964-497f-8329-71eff32f5ec7"
      },
      "execution_count": 24,
      "outputs": [
        {
          "output_type": "stream",
          "name": "stdout",
          "text": [
            "   Gender  Age  Under 30  Senior Citizen  Married  Dependents  \\\n",
            "0       1   78         0               1        0           0   \n",
            "1       1   39         0               0        1           0   \n",
            "2       0   32         0               0        0           0   \n",
            "3       1   35         0               0        1           1   \n",
            "4       0   20         1               0        0           0   \n",
            "\n",
            "   Number of Dependents  City  Zip Code  Latitude  ...  Internet Type_Cable  \\\n",
            "0                     0   293         5  34.02381  ...                    0   \n",
            "1                     0   293         5  34.02381  ...                    0   \n",
            "2                     0   293         5  34.02381  ...                    0   \n",
            "3                     3   293         5  34.02381  ...                    1   \n",
            "4                     0   293         5  34.02381  ...                    0   \n",
            "\n",
            "   Internet Type_DSL  Internet Type_Fiber Optic  Internet Type_None  \\\n",
            "0                  1                          0                   0   \n",
            "1                  1                          0                   0   \n",
            "2                  0                          1                   0   \n",
            "3                  0                          0                   0   \n",
            "4                  0                          1                   0   \n",
            "\n",
            "   Contract_Month-to-Month  Contract_One Year  Contract_Two Year  \\\n",
            "0                        1                  0                  0   \n",
            "1                        0                  0                  1   \n",
            "2                        1                  0                  0   \n",
            "3                        0                  0                  1   \n",
            "4                        0                  1                  0   \n",
            "\n",
            "   Payment Method_Bank Withdrawal  Payment Method_Credit Card  \\\n",
            "0                               1                           0   \n",
            "1                               0                           1   \n",
            "2                               1                           0   \n",
            "3                               0                           1   \n",
            "4                               0                           1   \n",
            "\n",
            "   Payment Method_Mailed Check  \n",
            "0                            0  \n",
            "1                            0  \n",
            "2                            0  \n",
            "3                            0  \n",
            "4                            0  \n",
            "\n",
            "[5 rows x 55 columns]\n"
          ]
        }
      ]
    },
    {
      "cell_type": "code",
      "source": [
        "# Calculate variances of numerical columns\n",
        "numerical_variances = df.select_dtypes(include=['int64', 'float64']).var()\n",
        "\n",
        "# Choose a 75th percentile as the threshold\n",
        "threshold_variance = numerical_variances.quantile(0.75)\n",
        "\n",
        "print(\"Variance threshold:\", threshold_variance)"
      ],
      "metadata": {
        "colab": {
          "base_uri": "https://localhost:8080/"
        },
        "id": "-VC5wV8phAI7",
        "outputId": "9e485dee-234c-41b9-907a-e01aa0141797"
      },
      "execution_count": 25,
      "outputs": [
        {
          "output_type": "stream",
          "name": "stdout",
          "text": [
            "Variance threshold: 509.62294271530305\n"
          ]
        }
      ]
    },
    {
      "cell_type": "code",
      "source": [
        "all_numerical_vars = [col for col in df.select_dtypes(include=['int64', 'float64']).columns if col != 'Churn Value']\n",
        "\n",
        "high_variance_vars = [col for col in df.select_dtypes(include=['int64', 'float64']).columns if df[col].var() > threshold_variance and col != 'Churn Value']"
      ],
      "metadata": {
        "id": "xKMnqHUZgxNp"
      },
      "execution_count": 26,
      "outputs": []
    },
    {
      "cell_type": "code",
      "source": [
        "all_numerical_vars"
      ],
      "metadata": {
        "colab": {
          "base_uri": "https://localhost:8080/"
        },
        "id": "UNuAsKGPhmA7",
        "outputId": "440842b0-2d62-4d9f-c262-9b3a6093c491"
      },
      "execution_count": 27,
      "outputs": [
        {
          "output_type": "execute_result",
          "data": {
            "text/plain": [
              "['Gender',\n",
              " 'Age',\n",
              " 'Under 30',\n",
              " 'Senior Citizen',\n",
              " 'Married',\n",
              " 'Dependents',\n",
              " 'Number of Dependents',\n",
              " 'City',\n",
              " 'Zip Code',\n",
              " 'Latitude',\n",
              " 'Longitude',\n",
              " 'Referred a Friend',\n",
              " 'Number of Referrals',\n",
              " 'Tenure in Months',\n",
              " 'Phone Service',\n",
              " 'Avg Monthly Long Distance Charges',\n",
              " 'Multiple Lines',\n",
              " 'Internet Service',\n",
              " 'Avg Monthly GB Download',\n",
              " 'Online Security',\n",
              " 'Online Backup',\n",
              " 'Device Protection Plan',\n",
              " 'Premium Tech Support',\n",
              " 'Streaming TV',\n",
              " 'Streaming Movies',\n",
              " 'Streaming Music',\n",
              " 'Unlimited Data',\n",
              " 'Paperless Billing',\n",
              " 'Monthly Charge',\n",
              " 'Total Charges',\n",
              " 'Total Refunds',\n",
              " 'Total Extra Data Charges',\n",
              " 'Total Long Distance Charges',\n",
              " 'Total Revenue',\n",
              " 'Satisfaction Score',\n",
              " 'CLTV',\n",
              " 'ID',\n",
              " 'Population']"
            ]
          },
          "metadata": {},
          "execution_count": 27
        }
      ]
    },
    {
      "cell_type": "code",
      "source": [
        "high_variance_vars"
      ],
      "metadata": {
        "colab": {
          "base_uri": "https://localhost:8080/"
        },
        "id": "7IWJGfKlh3Hc",
        "outputId": "fccf66bf-da8c-425d-c68f-22549ec9ce95"
      },
      "execution_count": 28,
      "outputs": [
        {
          "output_type": "execute_result",
          "data": {
            "text/plain": [
              "['City',\n",
              " 'Tenure in Months',\n",
              " 'Monthly Charge',\n",
              " 'Total Charges',\n",
              " 'Total Extra Data Charges',\n",
              " 'Total Long Distance Charges',\n",
              " 'Total Revenue',\n",
              " 'CLTV',\n",
              " 'ID',\n",
              " 'Population']"
            ]
          },
          "metadata": {},
          "execution_count": 28
        }
      ]
    },
    {
      "cell_type": "code",
      "source": [
        "# Scale the high variance numerical columns\n",
        "scaler = StandardScaler()\n",
        "df[all_numerical_vars] = scaler.fit_transform(df[all_numerical_vars])"
      ],
      "metadata": {
        "id": "ItcdldlVRmNm"
      },
      "execution_count": 29,
      "outputs": []
    },
    {
      "cell_type": "markdown",
      "source": [
        "# Split Data into train and test set"
      ],
      "metadata": {
        "id": "g63Tq4MPYFa1"
      }
    },
    {
      "cell_type": "code",
      "source": [
        "df.columns"
      ],
      "metadata": {
        "colab": {
          "base_uri": "https://localhost:8080/"
        },
        "id": "75Oxo80QiU6Q",
        "outputId": "4e6d9d06-a971-4898-c288-29913af31ac0"
      },
      "execution_count": 30,
      "outputs": [
        {
          "output_type": "execute_result",
          "data": {
            "text/plain": [
              "Index(['Gender', 'Age', 'Under 30', 'Senior Citizen', 'Married', 'Dependents',\n",
              "       'Number of Dependents', 'City', 'Zip Code', 'Latitude', 'Longitude',\n",
              "       'Referred a Friend', 'Number of Referrals', 'Tenure in Months',\n",
              "       'Phone Service', 'Avg Monthly Long Distance Charges', 'Multiple Lines',\n",
              "       'Internet Service', 'Avg Monthly GB Download', 'Online Security',\n",
              "       'Online Backup', 'Device Protection Plan', 'Premium Tech Support',\n",
              "       'Streaming TV', 'Streaming Movies', 'Streaming Music', 'Unlimited Data',\n",
              "       'Paperless Billing', 'Monthly Charge', 'Total Charges', 'Total Refunds',\n",
              "       'Total Extra Data Charges', 'Total Long Distance Charges',\n",
              "       'Total Revenue', 'Satisfaction Score', 'Churn Value', 'CLTV', 'ID',\n",
              "       'Population', 'Offer_None', 'Offer_Offer A', 'Offer_Offer B',\n",
              "       'Offer_Offer C', 'Offer_Offer D', 'Offer_Offer E',\n",
              "       'Internet Type_Cable', 'Internet Type_DSL', 'Internet Type_Fiber Optic',\n",
              "       'Internet Type_None', 'Contract_Month-to-Month', 'Contract_One Year',\n",
              "       'Contract_Two Year', 'Payment Method_Bank Withdrawal',\n",
              "       'Payment Method_Credit Card', 'Payment Method_Mailed Check'],\n",
              "      dtype='object')"
            ]
          },
          "metadata": {},
          "execution_count": 30
        }
      ]
    },
    {
      "cell_type": "code",
      "source": [
        "X = df.drop(['Churn Value'], axis=1)\n",
        "y = df['Churn Value']\n",
        "X_train, X_test, y_train, y_test = train_test_split(X, y, test_size=0.2, random_state=42)\n",
        "\n",
        "print(\"Training set:\", X_train.shape, y_train.shape)\n",
        "print(\"Test set:\", X_test.shape, y_test.shape)"
      ],
      "metadata": {
        "colab": {
          "base_uri": "https://localhost:8080/"
        },
        "id": "WpDO_WTrYKn3",
        "outputId": "97efb247-d62c-4e93-a56c-7f78d2a309db"
      },
      "execution_count": 31,
      "outputs": [
        {
          "output_type": "stream",
          "name": "stdout",
          "text": [
            "Training set: (5634, 54) (5634,)\n",
            "Test set: (1409, 54) (1409,)\n"
          ]
        }
      ]
    },
    {
      "cell_type": "markdown",
      "source": [
        "# Modelling Techniques"
      ],
      "metadata": {
        "id": "a6xejOvfcPbZ"
      }
    },
    {
      "cell_type": "markdown",
      "source": [
        "## 1. Logistic Regression"
      ],
      "metadata": {
        "id": "vYcgaZr4cbkF"
      }
    },
    {
      "cell_type": "code",
      "source": [
        "from sklearn.linear_model import LogisticRegression\n",
        "from sklearn.metrics import accuracy_score, classification_report, roc_auc_score, roc_curve"
      ],
      "metadata": {
        "id": "VciAh2Lks-mn"
      },
      "execution_count": 32,
      "outputs": []
    },
    {
      "cell_type": "code",
      "source": [
        "# Initialize the Logistic Regression model\n",
        "log_reg = LogisticRegression(max_iter=1000)\n",
        "log_reg.fit(X_train, y_train)"
      ],
      "metadata": {
        "colab": {
          "base_uri": "https://localhost:8080/",
          "height": 75
        },
        "id": "edCY6VIFxZhz",
        "outputId": "96e04909-3393-4b6e-fda3-0e459b415884"
      },
      "execution_count": 33,
      "outputs": [
        {
          "output_type": "execute_result",
          "data": {
            "text/plain": [
              "LogisticRegression(max_iter=1000)"
            ],
            "text/html": [
              "<style>#sk-container-id-1 {color: black;background-color: white;}#sk-container-id-1 pre{padding: 0;}#sk-container-id-1 div.sk-toggleable {background-color: white;}#sk-container-id-1 label.sk-toggleable__label {cursor: pointer;display: block;width: 100%;margin-bottom: 0;padding: 0.3em;box-sizing: border-box;text-align: center;}#sk-container-id-1 label.sk-toggleable__label-arrow:before {content: \"▸\";float: left;margin-right: 0.25em;color: #696969;}#sk-container-id-1 label.sk-toggleable__label-arrow:hover:before {color: black;}#sk-container-id-1 div.sk-estimator:hover label.sk-toggleable__label-arrow:before {color: black;}#sk-container-id-1 div.sk-toggleable__content {max-height: 0;max-width: 0;overflow: hidden;text-align: left;background-color: #f0f8ff;}#sk-container-id-1 div.sk-toggleable__content pre {margin: 0.2em;color: black;border-radius: 0.25em;background-color: #f0f8ff;}#sk-container-id-1 input.sk-toggleable__control:checked~div.sk-toggleable__content {max-height: 200px;max-width: 100%;overflow: auto;}#sk-container-id-1 input.sk-toggleable__control:checked~label.sk-toggleable__label-arrow:before {content: \"▾\";}#sk-container-id-1 div.sk-estimator input.sk-toggleable__control:checked~label.sk-toggleable__label {background-color: #d4ebff;}#sk-container-id-1 div.sk-label input.sk-toggleable__control:checked~label.sk-toggleable__label {background-color: #d4ebff;}#sk-container-id-1 input.sk-hidden--visually {border: 0;clip: rect(1px 1px 1px 1px);clip: rect(1px, 1px, 1px, 1px);height: 1px;margin: -1px;overflow: hidden;padding: 0;position: absolute;width: 1px;}#sk-container-id-1 div.sk-estimator {font-family: monospace;background-color: #f0f8ff;border: 1px dotted black;border-radius: 0.25em;box-sizing: border-box;margin-bottom: 0.5em;}#sk-container-id-1 div.sk-estimator:hover {background-color: #d4ebff;}#sk-container-id-1 div.sk-parallel-item::after {content: \"\";width: 100%;border-bottom: 1px solid gray;flex-grow: 1;}#sk-container-id-1 div.sk-label:hover label.sk-toggleable__label {background-color: #d4ebff;}#sk-container-id-1 div.sk-serial::before {content: \"\";position: absolute;border-left: 1px solid gray;box-sizing: border-box;top: 0;bottom: 0;left: 50%;z-index: 0;}#sk-container-id-1 div.sk-serial {display: flex;flex-direction: column;align-items: center;background-color: white;padding-right: 0.2em;padding-left: 0.2em;position: relative;}#sk-container-id-1 div.sk-item {position: relative;z-index: 1;}#sk-container-id-1 div.sk-parallel {display: flex;align-items: stretch;justify-content: center;background-color: white;position: relative;}#sk-container-id-1 div.sk-item::before, #sk-container-id-1 div.sk-parallel-item::before {content: \"\";position: absolute;border-left: 1px solid gray;box-sizing: border-box;top: 0;bottom: 0;left: 50%;z-index: -1;}#sk-container-id-1 div.sk-parallel-item {display: flex;flex-direction: column;z-index: 1;position: relative;background-color: white;}#sk-container-id-1 div.sk-parallel-item:first-child::after {align-self: flex-end;width: 50%;}#sk-container-id-1 div.sk-parallel-item:last-child::after {align-self: flex-start;width: 50%;}#sk-container-id-1 div.sk-parallel-item:only-child::after {width: 0;}#sk-container-id-1 div.sk-dashed-wrapped {border: 1px dashed gray;margin: 0 0.4em 0.5em 0.4em;box-sizing: border-box;padding-bottom: 0.4em;background-color: white;}#sk-container-id-1 div.sk-label label {font-family: monospace;font-weight: bold;display: inline-block;line-height: 1.2em;}#sk-container-id-1 div.sk-label-container {text-align: center;}#sk-container-id-1 div.sk-container {/* jupyter's `normalize.less` sets `[hidden] { display: none; }` but bootstrap.min.css set `[hidden] { display: none !important; }` so we also need the `!important` here to be able to override the default hidden behavior on the sphinx rendered scikit-learn.org. See: https://github.com/scikit-learn/scikit-learn/issues/21755 */display: inline-block !important;position: relative;}#sk-container-id-1 div.sk-text-repr-fallback {display: none;}</style><div id=\"sk-container-id-1\" class=\"sk-top-container\"><div class=\"sk-text-repr-fallback\"><pre>LogisticRegression(max_iter=1000)</pre><b>In a Jupyter environment, please rerun this cell to show the HTML representation or trust the notebook. <br />On GitHub, the HTML representation is unable to render, please try loading this page with nbviewer.org.</b></div><div class=\"sk-container\" hidden><div class=\"sk-item\"><div class=\"sk-estimator sk-toggleable\"><input class=\"sk-toggleable__control sk-hidden--visually\" id=\"sk-estimator-id-1\" type=\"checkbox\" checked><label for=\"sk-estimator-id-1\" class=\"sk-toggleable__label sk-toggleable__label-arrow\">LogisticRegression</label><div class=\"sk-toggleable__content\"><pre>LogisticRegression(max_iter=1000)</pre></div></div></div></div></div>"
            ]
          },
          "metadata": {},
          "execution_count": 33
        }
      ]
    },
    {
      "cell_type": "code",
      "source": [
        "# Predictions\n",
        "y_pred = log_reg.predict(X_test)\n",
        "y_pred_proba = log_reg.predict_proba(X_test)[:,1]\n",
        "\n",
        "# Accuracy\n",
        "print(\"Accuracy:\", accuracy_score(y_test, y_pred))\n",
        "\n",
        "# Classification Report\n",
        "print(classification_report(y_test, y_pred))\n",
        "\n",
        "# ROC-AUC Score\n",
        "print(\"ROC-AUC Score:\", roc_auc_score(y_test, y_pred_proba))\n",
        "\n",
        "# ROC Curve\n",
        "fpr, tpr, _ = roc_curve(y_test, y_pred_proba)\n",
        "plt.plot(fpr, tpr, label='Logistic Regression')\n",
        "plt.xlabel('False Positive Rate')\n",
        "plt.ylabel('True Positive Rate')\n",
        "plt.title('ROC Curve')\n",
        "plt.legend()\n",
        "plt.show()"
      ],
      "metadata": {
        "colab": {
          "base_uri": "https://localhost:8080/",
          "height": 663
        },
        "id": "h7DKAgIT9UP2",
        "outputId": "ad394fdd-7cb6-4f30-991e-43f615bda475"
      },
      "execution_count": 34,
      "outputs": [
        {
          "output_type": "stream",
          "name": "stdout",
          "text": [
            "Accuracy: 0.9545777146912704\n",
            "              precision    recall  f1-score   support\n",
            "\n",
            "           0       0.96      0.98      0.97      1032\n",
            "           1       0.93      0.89      0.91       377\n",
            "\n",
            "    accuracy                           0.95      1409\n",
            "   macro avg       0.95      0.94      0.94      1409\n",
            "weighted avg       0.95      0.95      0.95      1409\n",
            "\n",
            "ROC-AUC Score: 0.9923997080171899\n"
          ]
        },
        {
          "output_type": "display_data",
          "data": {
            "text/plain": [
              "<Figure size 640x480 with 1 Axes>"
            ],
            "image/png": "[encoded data removed]"
          },
          "metadata": {}
        }
      ]
    },
    {
      "cell_type": "code",
      "source": [
        "feature_importance = pd.DataFrame(log_reg.coef_[0], index=X_train.columns, columns=['Coefficient']).sort_values('Coefficient', ascending=False)\n",
        "\n",
        "print(feature_importance)"
      ],
      "metadata": {
        "colab": {
          "base_uri": "https://localhost:8080/"
        },
        "id": "gqLLe_Ldkyws",
        "outputId": "c760bac2-7c08-4377-f054-da30a78ad9d6"
      },
      "execution_count": 35,
      "outputs": [
        {
          "output_type": "stream",
          "name": "stdout",
          "text": [
            "                                   Coefficient\n",
            "Monthly Charge                        0.858277\n",
            "Contract_Month-to-Month               0.838985\n",
            "Offer_Offer A                         0.734977\n",
            "Referred a Friend                     0.618289\n",
            "Number of Dependents                  0.432889\n",
            "Senior Citizen                        0.402361\n",
            "Streaming Music                       0.389030\n",
            "Total Long Distance Charges           0.372325\n",
            "Offer_Offer E                         0.362288\n",
            "Internet Type_Cable                   0.293971\n",
            "Zip Code                              0.285428\n",
            "Payment Method_Mailed Check           0.282973\n",
            "City                                  0.168425\n",
            "Married                               0.164350\n",
            "Paperless Billing                     0.138702\n",
            "Payment Method_Bank Withdrawal        0.132938\n",
            "Total Extra Data Charges              0.116366\n",
            "Population                            0.101356\n",
            "Total Revenue                         0.096915\n",
            "ID                                    0.069092\n",
            "Internet Type_None                    0.059335\n",
            "Multiple Lines                        0.054245\n",
            "CLTV                                  0.020195\n",
            "Avg Monthly GB Download               0.019898\n",
            "Under 30                             -0.008569\n",
            "Contract_One Year                    -0.016603\n",
            "Total Charges                        -0.018194\n",
            "Age                                  -0.041458\n",
            "Unlimited Data                       -0.046505\n",
            "Device Protection Plan               -0.048150\n",
            "Offer_Offer B                        -0.052784\n",
            "Streaming TV                         -0.064141\n",
            "Gender                               -0.080248\n",
            "Internet Type_DSL                    -0.083834\n",
            "Latitude                             -0.095526\n",
            "Total Refunds                        -0.095841\n",
            "Longitude                            -0.098085\n",
            "Internet Service                     -0.141026\n",
            "Online Backup                        -0.208116\n",
            "Avg Monthly Long Distance Charges    -0.216735\n",
            "Phone Service                        -0.227447\n",
            "Offer_None                           -0.231768\n",
            "Streaming Movies                     -0.235455\n",
            "Internet Type_Fiber Optic            -0.263769\n",
            "Premium Tech Support                 -0.306863\n",
            "Offer_Offer C                        -0.347005\n",
            "Payment Method_Credit Card           -0.410208\n",
            "Offer_Offer D                        -0.460006\n",
            "Contract_Two Year                    -0.816679\n",
            "Tenure in Months                     -0.898035\n",
            "Dependents                           -1.070991\n",
            "Online Security                      -1.265824\n",
            "Number of Referrals                  -1.824985\n",
            "Satisfaction Score                   -7.048758\n"
          ]
        }
      ]
    },
    {
      "cell_type": "markdown",
      "source": [
        "## 3. SVM"
      ],
      "metadata": {
        "id": "O9b9lrEkef3_"
      }
    },
    {
      "cell_type": "code",
      "source": [
        "from sklearn.svm import SVC\n",
        "from sklearn.metrics import accuracy_score, confusion_matrix, classification_report\n",
        "from sklearn.model_selection import cross_val_score, GridSearchCV"
      ],
      "metadata": {
        "id": "BwOaqngp5hdT"
      },
      "execution_count": 36,
      "outputs": []
    },
    {
      "cell_type": "code",
      "source": [
        "svm_model = SVC(probability=True)\n",
        "svm_model.fit(X_train, y_train)"
      ],
      "metadata": {
        "colab": {
          "base_uri": "https://localhost:8080/",
          "height": 75
        },
        "id": "hhttJsH05inc",
        "outputId": "9663f45a-c9d7-4bc5-ee9d-baa86f05c2ef"
      },
      "execution_count": 37,
      "outputs": [
        {
          "output_type": "execute_result",
          "data": {
            "text/plain": [
              "SVC(probability=True)"
            ],
            "text/html": [
              "<style>#sk-container-id-2 {color: black;background-color: white;}#sk-container-id-2 pre{padding: 0;}#sk-container-id-2 div.sk-toggleable {background-color: white;}#sk-container-id-2 label.sk-toggleable__label {cursor: pointer;display: block;width: 100%;margin-bottom: 0;padding: 0.3em;box-sizing: border-box;text-align: center;}#sk-container-id-2 label.sk-toggleable__label-arrow:before {content: \"▸\";float: left;margin-right: 0.25em;color: #696969;}#sk-container-id-2 label.sk-toggleable__label-arrow:hover:before {color: black;}#sk-container-id-2 div.sk-estimator:hover label.sk-toggleable__label-arrow:before {color: black;}#sk-container-id-2 div.sk-toggleable__content {max-height: 0;max-width: 0;overflow: hidden;text-align: left;background-color: #f0f8ff;}#sk-container-id-2 div.sk-toggleable__content pre {margin: 0.2em;color: black;border-radius: 0.25em;background-color: #f0f8ff;}#sk-container-id-2 input.sk-toggleable__control:checked~div.sk-toggleable__content {max-height: 200px;max-width: 100%;overflow: auto;}#sk-container-id-2 input.sk-toggleable__control:checked~label.sk-toggleable__label-arrow:before {content: \"▾\";}#sk-container-id-2 div.sk-estimator input.sk-toggleable__control:checked~label.sk-toggleable__label {background-color: #d4ebff;}#sk-container-id-2 div.sk-label input.sk-toggleable__control:checked~label.sk-toggleable__label {background-color: #d4ebff;}#sk-container-id-2 input.sk-hidden--visually {border: 0;clip: rect(1px 1px 1px 1px);clip: rect(1px, 1px, 1px, 1px);height: 1px;margin: -1px;overflow: hidden;padding: 0;position: absolute;width: 1px;}#sk-container-id-2 div.sk-estimator {font-family: monospace;background-color: #f0f8ff;border: 1px dotted black;border-radius: 0.25em;box-sizing: border-box;margin-bottom: 0.5em;}#sk-container-id-2 div.sk-estimator:hover {background-color: #d4ebff;}#sk-container-id-2 div.sk-parallel-item::after {content: \"\";width: 100%;border-bottom: 1px solid gray;flex-grow: 1;}#sk-container-id-2 div.sk-label:hover label.sk-toggleable__label {background-color: #d4ebff;}#sk-container-id-2 div.sk-serial::before {content: \"\";position: absolute;border-left: 1px solid gray;box-sizing: border-box;top: 0;bottom: 0;left: 50%;z-index: 0;}#sk-container-id-2 div.sk-serial {display: flex;flex-direction: column;align-items: center;background-color: white;padding-right: 0.2em;padding-left: 0.2em;position: relative;}#sk-container-id-2 div.sk-item {position: relative;z-index: 1;}#sk-container-id-2 div.sk-parallel {display: flex;align-items: stretch;justify-content: center;background-color: white;position: relative;}#sk-container-id-2 div.sk-item::before, #sk-container-id-2 div.sk-parallel-item::before {content: \"\";position: absolute;border-left: 1px solid gray;box-sizing: border-box;top: 0;bottom: 0;left: 50%;z-index: -1;}#sk-container-id-2 div.sk-parallel-item {display: flex;flex-direction: column;z-index: 1;position: relative;background-color: white;}#sk-container-id-2 div.sk-parallel-item:first-child::after {align-self: flex-end;width: 50%;}#sk-container-id-2 div.sk-parallel-item:last-child::after {align-self: flex-start;width: 50%;}#sk-container-id-2 div.sk-parallel-item:only-child::after {width: 0;}#sk-container-id-2 div.sk-dashed-wrapped {border: 1px dashed gray;margin: 0 0.4em 0.5em 0.4em;box-sizing: border-box;padding-bottom: 0.4em;background-color: white;}#sk-container-id-2 div.sk-label label {font-family: monospace;font-weight: bold;display: inline-block;line-height: 1.2em;}#sk-container-id-2 div.sk-label-container {text-align: center;}#sk-container-id-2 div.sk-container {/* jupyter's `normalize.less` sets `[hidden] { display: none; }` but bootstrap.min.css set `[hidden] { display: none !important; }` so we also need the `!important` here to be able to override the default hidden behavior on the sphinx rendered scikit-learn.org. See: https://github.com/scikit-learn/scikit-learn/issues/21755 */display: inline-block !important;position: relative;}#sk-container-id-2 div.sk-text-repr-fallback {display: none;}</style><div id=\"sk-container-id-2\" class=\"sk-top-container\"><div class=\"sk-text-repr-fallback\"><pre>SVC(probability=True)</pre><b>In a Jupyter environment, please rerun this cell to show the HTML representation or trust the notebook. <br />On GitHub, the HTML representation is unable to render, please try loading this page with nbviewer.org.</b></div><div class=\"sk-container\" hidden><div class=\"sk-item\"><div class=\"sk-estimator sk-toggleable\"><input class=\"sk-toggleable__control sk-hidden--visually\" id=\"sk-estimator-id-2\" type=\"checkbox\" checked><label for=\"sk-estimator-id-2\" class=\"sk-toggleable__label sk-toggleable__label-arrow\">SVC</label><div class=\"sk-toggleable__content\"><pre>SVC(probability=True)</pre></div></div></div></div></div>"
            ]
          },
          "metadata": {},
          "execution_count": 37
        }
      ]
    },
    {
      "cell_type": "code",
      "source": [
        "# Predictions\n",
        "y_pred = svm_model.predict(X_test)\n",
        "y_pred_proba = svm_model.predict_proba(X_test)[:, 1]\n",
        "\n",
        "# Accuracy\n",
        "print(\"Accuracy:\", accuracy_score(y_test, y_pred))\n",
        "\n",
        "# Classification Report\n",
        "print(classification_report(y_test, y_pred))\n",
        "\n",
        "# ROC-AUC Score\n",
        "print(\"ROC-AUC Score:\", roc_auc_score(y_test, y_pred_proba))\n",
        "\n",
        "# ROC Curve\n",
        "fpr, tpr, _ = roc_curve(y_test, y_pred_proba)\n",
        "plt.plot(fpr, tpr, label='Logistic Regression')\n",
        "plt.xlabel('False Positive Rate')\n",
        "plt.ylabel('True Positive Rate')\n",
        "plt.title('ROC Curve')\n",
        "plt.legend()\n",
        "plt.show()"
      ],
      "metadata": {
        "colab": {
          "base_uri": "https://localhost:8080/",
          "height": 663
        },
        "id": "XXZzOTql55Ra",
        "outputId": "1ae198b0-84c7-45df-8858-ba676870f604"
      },
      "execution_count": 38,
      "outputs": [
        {
          "output_type": "stream",
          "name": "stdout",
          "text": [
            "Accuracy: 0.9524485450674237\n",
            "              precision    recall  f1-score   support\n",
            "\n",
            "           0       0.95      0.98      0.97      1032\n",
            "           1       0.95      0.87      0.91       377\n",
            "\n",
            "    accuracy                           0.95      1409\n",
            "   macro avg       0.95      0.93      0.94      1409\n",
            "weighted avg       0.95      0.95      0.95      1409\n",
            "\n",
            "ROC-AUC Score: 0.989785742191516\n"
          ]
        },
        {
          "output_type": "display_data",
          "data": {
            "text/plain": [
              "<Figure size 640x480 with 1 Axes>"
            ],
            "image/png": "[encoded data removed]"
          },
          "metadata": {}
        }
      ]
    },
    {
      "cell_type": "code",
      "source": [
        "param_grid = {\n",
        "    'kernel': ['linear', 'rbf', 'poly', 'sigmoid']\n",
        "}\n",
        "\n",
        "grid_search = GridSearchCV(SVC(probability=True), param_grid, cv=5, verbose=2, n_jobs=-1)\n",
        "\n",
        "# Perform the grid search\n",
        "grid_search.fit(X_train, y_train)\n",
        "\n",
        "# Find the best parameters and score\n",
        "best_params = grid_search.best_params_\n",
        "best_score = grid_search.best_score_\n",
        "\n",
        "print(\"Best Parameters:\", best_params)\n",
        "print(\"Best Cross-Validation Score:\", best_score)"
      ],
      "metadata": {
        "colab": {
          "base_uri": "https://localhost:8080/"
        },
        "id": "E6rAqa1h6k8H",
        "outputId": "3fa6b2f7-0d63-45bb-919d-84aed53780f1"
      },
      "execution_count": 39,
      "outputs": [
        {
          "output_type": "stream",
          "name": "stdout",
          "text": [
            "Fitting 5 folds for each of 4 candidates, totalling 20 fits\n",
            "Best Parameters: {'kernel': 'linear'}\n",
            "Best Cross-Validation Score: 0.962903919773176\n"
          ]
        }
      ]
    },
    {
      "cell_type": "code",
      "source": [
        "best_svm_model = grid_search.best_estimator_\n",
        "\n",
        "# Predictions\n",
        "y_pred = best_svm_model.predict(X_test)\n",
        "y_pred_proba = best_svm_model.predict_proba(X_test)[:, 1]\n",
        "\n",
        "# Accuracy\n",
        "print(\"Accuracy:\", accuracy_score(y_test, y_pred))\n",
        "\n",
        "# Classification Report\n",
        "print(classification_report(y_test, y_pred))\n",
        "\n",
        "# ROC-AUC Score\n",
        "print(\"ROC-AUC Score:\", roc_auc_score(y_test, y_pred_proba))\n",
        "\n",
        "# ROC Curve\n",
        "fpr, tpr, _ = roc_curve(y_test, y_pred_proba)\n",
        "plt.plot(fpr, tpr, label='Logistic Regression')\n",
        "plt.xlabel('False Positive Rate')\n",
        "plt.ylabel('True Positive Rate')\n",
        "plt.title('ROC Curve')\n",
        "plt.legend()\n",
        "plt.show()"
      ],
      "metadata": {
        "colab": {
          "base_uri": "https://localhost:8080/",
          "height": 663
        },
        "id": "sA4PQeDWGkV3",
        "outputId": "f0ed5892-2c93-4598-b7b3-b85e13f85265"
      },
      "execution_count": 40,
      "outputs": [
        {
          "output_type": "stream",
          "name": "stdout",
          "text": [
            "Accuracy: 0.9595457771469127\n",
            "              precision    recall  f1-score   support\n",
            "\n",
            "           0       0.96      0.98      0.97      1032\n",
            "           1       0.94      0.90      0.92       377\n",
            "\n",
            "    accuracy                           0.96      1409\n",
            "   macro avg       0.95      0.94      0.95      1409\n",
            "weighted avg       0.96      0.96      0.96      1409\n",
            "\n",
            "ROC-AUC Score: 0.9923483025928896\n"
          ]
        },
        {
          "output_type": "display_data",
          "data": {
            "text/plain": [
              "<Figure size 640x480 with 1 Axes>"
            ],
            "image/png": "[encoded data removed]"
          },
          "metadata": {}
        }
      ]
    },
    {
      "cell_type": "markdown",
      "source": [
        "## Deep Neural Net"
      ],
      "metadata": {
        "id": "ZQpRUvhc2KoB"
      }
    },
    {
      "cell_type": "code",
      "source": [
        "# Uncomment the below line and run to install required packages if you have not done so\n",
        "\n",
        "!pip install torch torchvision matplotlib tqdm"
      ],
      "metadata": {
        "colab": {
          "base_uri": "https://localhost:8080/"
        },
        "id": "054R2jgu2OiY",
        "outputId": "de0f418b-b033-431b-b000-82eb93e0d0b0"
      },
      "execution_count": 41,
      "outputs": [
        {
          "output_type": "stream",
          "name": "stdout",
          "text": [
            "Requirement already satisfied: torch in /usr/local/lib/python3.10/dist-packages (2.1.0+cu118)\n",
            "Requirement already satisfied: torchvision in /usr/local/lib/python3.10/dist-packages (0.16.0+cu118)\n",
            "Requirement already satisfied: matplotlib in /usr/local/lib/python3.10/dist-packages (3.7.1)\n",
            "Requirement already satisfied: tqdm in /usr/local/lib/python3.10/dist-packages (4.66.1)\n",
            "Requirement already satisfied: filelock in /usr/local/lib/python3.10/dist-packages (from torch) (3.13.1)\n",
            "Requirement already satisfied: typing-extensions in /usr/local/lib/python3.10/dist-packages (from torch) (4.5.0)\n",
            "Requirement already satisfied: sympy in /usr/local/lib/python3.10/dist-packages (from torch) (1.12)\n",
            "Requirement already satisfied: networkx in /usr/local/lib/python3.10/dist-packages (from torch) (3.2.1)\n",
            "Requirement already satisfied: jinja2 in /usr/local/lib/python3.10/dist-packages (from torch) (3.1.2)\n",
            "Requirement already satisfied: fsspec in /usr/local/lib/python3.10/dist-packages (from torch) (2023.6.0)\n",
            "Requirement already satisfied: triton==2.1.0 in /usr/local/lib/python3.10/dist-packages (from torch) (2.1.0)\n",
            "Requirement already satisfied: numpy in /usr/local/lib/python3.10/dist-packages (from torchvision) (1.23.5)\n",
            "Requirement already satisfied: requests in /usr/local/lib/python3.10/dist-packages (from torchvision) (2.31.0)\n",
            "Requirement already satisfied: pillow!=8.3.*,>=5.3.0 in /usr/local/lib/python3.10/dist-packages (from torchvision) (9.4.0)\n",
            "Requirement already satisfied: contourpy>=1.0.1 in /usr/local/lib/python3.10/dist-packages (from matplotlib) (1.2.0)\n",
            "Requirement already satisfied: cycler>=0.10 in /usr/local/lib/python3.10/dist-packages (from matplotlib) (0.12.1)\n",
            "Requirement already satisfied: fonttools>=4.22.0 in /usr/local/lib/python3.10/dist-packages (from matplotlib) (4.46.0)\n",
            "Requirement already satisfied: kiwisolver>=1.0.1 in /usr/local/lib/python3.10/dist-packages (from matplotlib) (1.4.5)\n",
            "Requirement already satisfied: packaging>=20.0 in /usr/local/lib/python3.10/dist-packages (from matplotlib) (23.2)\n",
            "Requirement already satisfied: pyparsing>=2.3.1 in /usr/local/lib/python3.10/dist-packages (from matplotlib) (3.1.1)\n",
            "Requirement already satisfied: python-dateutil>=2.7 in /usr/local/lib/python3.10/dist-packages (from matplotlib) (2.8.2)\n",
            "Requirement already satisfied: six>=1.5 in /usr/local/lib/python3.10/dist-packages (from python-dateutil>=2.7->matplotlib) (1.16.0)\n",
            "Requirement already satisfied: MarkupSafe>=2.0 in /usr/local/lib/python3.10/dist-packages (from jinja2->torch) (2.1.3)\n",
            "Requirement already satisfied: charset-normalizer<4,>=2 in /usr/local/lib/python3.10/dist-packages (from requests->torchvision) (3.3.2)\n",
            "Requirement already satisfied: idna<4,>=2.5 in /usr/local/lib/python3.10/dist-packages (from requests->torchvision) (3.6)\n",
            "Requirement already satisfied: urllib3<3,>=1.21.1 in /usr/local/lib/python3.10/dist-packages (from requests->torchvision) (2.0.7)\n",
            "Requirement already satisfied: certifi>=2017.4.17 in /usr/local/lib/python3.10/dist-packages (from requests->torchvision) (2023.11.17)\n",
            "Requirement already satisfied: mpmath>=0.19 in /usr/local/lib/python3.10/dist-packages (from sympy->torch) (1.3.0)\n"
          ]
        }
      ]
    },
    {
      "cell_type": "code",
      "source": [
        "# Setup\n",
        "import torch\n",
        "import matplotlib.pyplot as plt\n",
        "from torchvision import datasets, transforms\n",
        "from tqdm import trange\n",
        "from torch.utils.data import TensorDataset, DataLoader"
      ],
      "metadata": {
        "id": "97MWZCTg2ZGn"
      },
      "execution_count": 42,
      "outputs": []
    },
    {
      "cell_type": "code",
      "source": [
        "%matplotlib inline\n",
        "DEVICE = 'cuda' if torch.cuda.is_available() else 'cpu'\n",
        "\n",
        "# Set random seed for reproducibility\n",
        "seed = 1234\n",
        "# cuDNN uses nondeterministic algorithms, set some options for reproducibility\n",
        "torch.backends.cudnn.deterministic = True\n",
        "torch.backends.cudnn.benchmark = False\n",
        "torch.manual_seed(seed)"
      ],
      "metadata": {
        "colab": {
          "base_uri": "https://localhost:8080/"
        },
        "id": "xoclW6Zr3hFq",
        "outputId": "17697d6d-3237-4fdd-a74a-46df42d3d68b"
      },
      "execution_count": 43,
      "outputs": [
        {
          "output_type": "execute_result",
          "data": {
            "text/plain": [
              "<torch._C.Generator at 0x7ae1e452ce90>"
            ]
          },
          "metadata": {},
          "execution_count": 43
        }
      ]
    },
    {
      "cell_type": "code",
      "source": [
        "# Convert arrays to PyTorch tensors\n",
        "X_train_tensor = torch.tensor(X_train.values, dtype=torch.float32)\n",
        "y_train_tensor = torch.tensor(y_train.values, dtype=torch.float32)\n",
        "X_test_tensor = torch.tensor(X_test.values, dtype=torch.float32)\n",
        "y_test_tensor = torch.tensor(y_test.values, dtype=torch.float32)\n",
        "\n",
        "# Create TensorDatasets\n",
        "train_data = TensorDataset(X_train_tensor, y_train_tensor)\n",
        "test_data = TensorDataset(X_test_tensor, y_test_tensor)"
      ],
      "metadata": {
        "id": "7rUm28BT3TmT"
      },
      "execution_count": 44,
      "outputs": []
    },
    {
      "cell_type": "code",
      "source": [
        "batch_size = 32\n",
        "torch.manual_seed(seed)\n",
        "train_loader = torch.utils.data.DataLoader(train_data, batch_size=batch_size, shuffle=True, num_workers=True)\n",
        "test_loader = torch.utils.data.DataLoader(test_data, batch_size=batch_size, shuffle=False, num_workers=True)"
      ],
      "metadata": {
        "id": "Y76fehF72jua"
      },
      "execution_count": 45,
      "outputs": []
    },
    {
      "cell_type": "code",
      "source": [
        "import torch.nn as nn\n",
        "import torch.nn.functional as F\n",
        "\n",
        "\n",
        "class ChurnPredictionModel_singleLayer(nn.Module):\n",
        "    def __init__(self, input_size):\n",
        "        super(ChurnPredictionModel_singleLayer, self).__init__()\n",
        "        self.fc1 = nn.Linear(input_size, 1)\n",
        "\n",
        "    def forward(self, x):\n",
        "        x = torch.sigmoid(self.fc1(x))\n",
        "        return x\n",
        "\n",
        "class ChurnPredictionModel_twoLayers(nn.Module):\n",
        "    def __init__(self, input_size):\n",
        "        super(ChurnPredictionModel_twoLayers, self).__init__()\n",
        "        self.fc1 = nn.Linear(input_size, 16)\n",
        "        self.fc2 = nn.Linear(16, 1)\n",
        "        self.dropout = nn.Dropout(p=0.1)\n",
        "\n",
        "    def forward(self, x):\n",
        "        x = F.relu(self.fc1(x))\n",
        "        x = self.dropout(x)\n",
        "        x = torch.sigmoid(self.fc2(x))\n",
        "        return x\n",
        "\n",
        "class ChurnPredictionModel_threeLayers(nn.Module):\n",
        "    def __init__(self, input_size):\n",
        "        super(ChurnPredictionModel_threeLayers, self).__init__()\n",
        "        self.fc1 = nn.Linear(input_size, 32)\n",
        "        self.fc2 = nn.Linear(32, 16)\n",
        "        self.fc3 = nn.Linear(16, 1)\n",
        "        self.dropout = nn.Dropout(p=0.1)\n",
        "\n",
        "    def forward(self, x):\n",
        "        x = F.relu(self.fc1(x))\n",
        "        x = self.dropout(x)\n",
        "        x = F.relu(self.fc2(x))\n",
        "        x = self.dropout(x)\n",
        "        x = torch.sigmoid(self.fc3(x))\n",
        "        return x\n",
        "\n",
        "# Initialize weights\n",
        "def init_weights(m):\n",
        "    if type(m) == nn.Linear:\n",
        "        torch.nn.init.uniform_(m.weight, 0, 0.05)\n",
        "        m.bias.data.fill_(0.01)"
      ],
      "metadata": {
        "id": "GgwOkAeD3tLL"
      },
      "execution_count": 46,
      "outputs": []
    },
    {
      "cell_type": "code",
      "source": [
        "# Initialize the model\n",
        "input_size = X.shape[1]\n",
        "model_singleLayer = ChurnPredictionModel_singleLayer(input_size)\n",
        "model_singleLayer.apply(init_weights)\n",
        "\n",
        "model_twoLayer = ChurnPredictionModel_twoLayers(input_size)\n",
        "model_twoLayer.apply(init_weights)\n",
        "\n",
        "model_threeLayer = ChurnPredictionModel_threeLayers(input_size)\n",
        "model_threeLayer.apply(init_weights)"
      ],
      "metadata": {
        "colab": {
          "base_uri": "https://localhost:8080/"
        },
        "id": "fP5Mv4RX4EkA",
        "outputId": "3b786742-84bc-4ae4-9c21-9f5c31f45175"
      },
      "execution_count": 47,
      "outputs": [
        {
          "output_type": "execute_result",
          "data": {
            "text/plain": [
              "ChurnPredictionModel_threeLayers(\n",
              "  (fc1): Linear(in_features=54, out_features=32, bias=True)\n",
              "  (fc2): Linear(in_features=32, out_features=16, bias=True)\n",
              "  (fc3): Linear(in_features=16, out_features=1, bias=True)\n",
              "  (dropout): Dropout(p=0.1, inplace=False)\n",
              ")"
            ]
          },
          "metadata": {},
          "execution_count": 47
        }
      ]
    },
    {
      "cell_type": "code",
      "source": [
        "model_singleLayer"
      ],
      "metadata": {
        "colab": {
          "base_uri": "https://localhost:8080/"
        },
        "id": "Ktp8SRjJo-hW",
        "outputId": "af384c89-6f5a-406c-953a-c354d0d10fa0"
      },
      "execution_count": 48,
      "outputs": [
        {
          "output_type": "execute_result",
          "data": {
            "text/plain": [
              "ChurnPredictionModel_singleLayer(\n",
              "  (fc1): Linear(in_features=54, out_features=1, bias=True)\n",
              ")"
            ]
          },
          "metadata": {},
          "execution_count": 48
        }
      ]
    },
    {
      "cell_type": "code",
      "source": [
        "model_twoLayer"
      ],
      "metadata": {
        "colab": {
          "base_uri": "https://localhost:8080/"
        },
        "id": "Y2mRV5OOpC4a",
        "outputId": "43cc07f4-8bf1-4afb-cbac-5869e3029ba4"
      },
      "execution_count": 49,
      "outputs": [
        {
          "output_type": "execute_result",
          "data": {
            "text/plain": [
              "ChurnPredictionModel_twoLayers(\n",
              "  (fc1): Linear(in_features=54, out_features=16, bias=True)\n",
              "  (fc2): Linear(in_features=16, out_features=1, bias=True)\n",
              "  (dropout): Dropout(p=0.1, inplace=False)\n",
              ")"
            ]
          },
          "metadata": {},
          "execution_count": 49
        }
      ]
    },
    {
      "cell_type": "code",
      "source": [
        "criterion = nn.BCELoss()\n",
        "\n",
        "def train_one_epoch(train_loader, model, device, optimizer):\n",
        "    model.train()\n",
        "    losses = []\n",
        "\n",
        "    for i, (X_batch, y_batch) in enumerate(train_loader):\n",
        "        X_batch, y_batch = X_batch.to(device), y_batch.to(device)\n",
        "\n",
        "        # ------------------\n",
        "        # Write your implementation here.\n",
        "        optimizer.zero_grad()                               # Zero the gradients\n",
        "        output = model(X_batch).squeeze()                           # Forward pass\n",
        "\n",
        "        if output.dim() == 0:\n",
        "            output = output.unsqueeze(0)\n",
        "\n",
        "        loss = F.binary_cross_entropy(output, y_batch)      # criterion(output.squeeze(), y_batch)         # Compute the loss\n",
        "        loss.backward()                                     # Backward pass\n",
        "        optimizer.step()                                    # Update the model parameters\n",
        "        losses.append(loss.item())\n",
        "        # ------------------\n",
        "    return losses"
      ],
      "metadata": {
        "id": "Ei2QRZAs4ZNH"
      },
      "execution_count": 50,
      "outputs": []
    },
    {
      "cell_type": "code",
      "source": [
        "def test_one_epoch(test_loader, model, device):\n",
        "    model.eval()\n",
        "    test_loss = 0\n",
        "    num_correct = 0\n",
        "\n",
        "    with torch.no_grad():\n",
        "        for i, (X_batch, y_batch) in enumerate(test_loader):\n",
        "            X_batch, y_batch = X_batch.to(device), y_batch.to(device)\n",
        "\n",
        "            # ------------------\n",
        "            # Write your implementation here.\n",
        "\n",
        "            output = model(X_batch).squeeze()\n",
        "            pred = output.round()       # (y_pred.squeeze() > 0.5).float()\n",
        "\n",
        "            if output.dim() == 0:\n",
        "              output = output.unsqueeze(0)\n",
        "\n",
        "            loss = F.binary_cross_entropy(output, y_batch)    # criterion(y_pred.squeeze(), y_batch)\n",
        "\n",
        "            test_loss += loss.item()\n",
        "            num_correct += pred.eq(y_batch.view_as(pred)).sum().item()\n",
        "\n",
        "            # ------------------\n",
        "\n",
        "    test_loss /= len(test_loader.dataset)\n",
        "    return test_loss, num_correct"
      ],
      "metadata": {
        "id": "0yjQ0LaE9y2N"
      },
      "execution_count": 51,
      "outputs": []
    },
    {
      "cell_type": "code",
      "source": [
        "# Hyperparameters\n",
        "lr = 0.001\n",
        "max_epochs=20\n",
        "gamma = 0.95"
      ],
      "metadata": {
        "id": "2C5L1Ndn_NuT"
      },
      "execution_count": 52,
      "outputs": []
    },
    {
      "cell_type": "code",
      "source": [
        "models = [model_singleLayer, model_twoLayer, model_threeLayer]\n",
        "layers = [\"Single Layer\", \"Two Layers\", \"Three Layers\"]\n",
        "\n",
        "for i, model in enumerate(models):\n",
        "    # Instantiate optimizer (model was created in previous cell)\n",
        "    # optimizer = torch.optim.SGD(model.parameters(), lr=lr)\n",
        "    optimizer = torch.optim.NAdam(model.parameters(), lr=lr)\n",
        "\n",
        "    train_losses = []\n",
        "    test_losses = []\n",
        "    test_correct = []\n",
        "    for epoch in trange(max_epochs, leave=True, desc=layers[i]):\n",
        "        train_loss = train_one_epoch(train_loader, model, DEVICE, optimizer)\n",
        "        test_loss, num_correct = test_one_epoch(test_loader, model, DEVICE)\n",
        "\n",
        "        # Record results\n",
        "        train_losses.extend(train_loss)\n",
        "        test_losses.append(test_loss)\n",
        "        test_correct.append(num_correct)\n",
        "\n",
        "    print(f\"{layers[i]} Test accuracy: {test_correct[-1]/len(test_loader.dataset)}\")"
      ],
      "metadata": {
        "colab": {
          "base_uri": "https://localhost:8080/"
        },
        "id": "j81eAmiIP7pi",
        "outputId": "5d85e179-f853-4e03-a048-bed5b7384949"
      },
      "execution_count": 53,
      "outputs": [
        {
          "output_type": "stream",
          "name": "stderr",
          "text": [
            "Single Layer: 100%|██████████| 20/20 [00:41<00:00,  2.07s/it]\n"
          ]
        },
        {
          "output_type": "stream",
          "name": "stdout",
          "text": [
            "Single Layer Test accuracy: 0.9524485450674237\n"
          ]
        },
        {
          "output_type": "stream",
          "name": "stderr",
          "text": [
            "Two Layers: 100%|██████████| 20/20 [00:20<00:00,  1.04s/it]\n"
          ]
        },
        {
          "output_type": "stream",
          "name": "stdout",
          "text": [
            "Two Layers Test accuracy: 0.9559971611071683\n"
          ]
        },
        {
          "output_type": "stream",
          "name": "stderr",
          "text": [
            "Three Layers: 100%|██████████| 20/20 [00:19<00:00,  1.01it/s]"
          ]
        },
        {
          "output_type": "stream",
          "name": "stdout",
          "text": [
            "Three Layers Test accuracy: 0.9595457771469127\n"
          ]
        },
        {
          "output_type": "stream",
          "name": "stderr",
          "text": [
            "\n"
          ]
        }
      ]
    },
    {
      "cell_type": "code",
      "source": [
        "from sklearn.metrics import accuracy_score, precision_recall_fscore_support, roc_auc_score, roc_curve\n",
        "\n",
        "# Modified test method to return predictions and labels\n",
        "def test_one_epoch_modified(test_loader, model, device):\n",
        "    model.eval()\n",
        "    test_loss = 0\n",
        "    num_correct = 0\n",
        "    all_predictions = []\n",
        "    all_probabilities = []  # To store probability scores for ROC AUC\n",
        "    all_labels = []\n",
        "\n",
        "    with torch.no_grad():\n",
        "        for i, (X_batch, y_batch) in enumerate(test_loader):\n",
        "            X_batch, y_batch = X_batch.to(device), y_batch.to(device)\n",
        "            outputs = model(X_batch).squeeze()\n",
        "            preds = outputs.round()\n",
        "\n",
        "            # If preds is a 0-d array (single value), unsqueeze it to make it iterable\n",
        "            if preds.dim() == 0:\n",
        "                preds = preds.unsqueeze(0)\n",
        "\n",
        "            if outputs.dim() == 0:\n",
        "                outputs = outputs.unsqueeze(0)\n",
        "\n",
        "            loss = F.binary_cross_entropy_with_logits(outputs, y_batch)\n",
        "            test_loss += loss.item()\n",
        "            num_correct += preds.eq(y_batch.view_as(preds)).sum().item()\n",
        "\n",
        "            # Convert to numpy and check if the result is a scalar\n",
        "            preds_np = preds.cpu().numpy()\n",
        "            preds_np = preds_np if preds_np.ndim > 0 else [preds_np.item()]\n",
        "            outputs_np = torch.sigmoid(outputs).cpu().numpy()\n",
        "            outputs_np = outputs_np if outputs_np.ndim > 0 else [outputs_np.item()]\n",
        "            y_batch_np = y_batch.cpu().numpy()\n",
        "            y_batch_np = y_batch_np if y_batch_np.ndim > 0 else [y_batch_np.item()]\n",
        "\n",
        "            all_predictions.extend(preds_np)\n",
        "            all_probabilities.extend(outputs_np)\n",
        "            all_labels.extend(y_batch_np)\n",
        "\n",
        "    test_loss /= len(test_loader.dataset)\n",
        "    accuracy = num_correct / len(test_loader.dataset)\n",
        "    return test_loss, accuracy, all_predictions, all_probabilities, all_labels\n"
      ],
      "metadata": {
        "id": "gAe65hUZzD6n"
      },
      "execution_count": 58,
      "outputs": []
    },
    {
      "cell_type": "code",
      "source": [
        "# Function to calculate and print the metrics\n",
        "def print_metrics(labels, predictions, probabilities):\n",
        "    # Calculate accuracy\n",
        "    accuracy = accuracy_score(labels, predictions)\n",
        "\n",
        "    # Calculate ROC-AUC score\n",
        "    roc_auc = roc_auc_score(labels, probabilities)\n",
        "\n",
        "    # Calculate ROC curve values\n",
        "    fpr, tpr, thresholds = roc_curve(labels, probabilities)\n",
        "\n",
        "\n",
        "    # Output the calculated metrics\n",
        "    print(f\"Accuracy: {accuracy}\")\n",
        "    print(classification_report(labels, predictions))\n",
        "    print(f\"ROC-AUC Score: {roc_auc}\")\n",
        "\n",
        "\n",
        "    # Plotting ROC curve\n",
        "    # plt.figure(figsize=(10, 8))\n",
        "    plt.plot(fpr, tpr, label=f'ANN (AUC = {roc_auc:.2f})')\n",
        "    plt.plot([0, 1], [0, 1], 'k--', label='No Skill')\n",
        "    plt.xlabel('False Positive Rate')\n",
        "    plt.ylabel('True Positive Rate')\n",
        "    plt.title('ROC Curve')\n",
        "    plt.legend()\n",
        "    plt.show()\n",
        ""
      ],
      "metadata": {
        "id": "dZF7dtAo0ddG"
      },
      "execution_count": 64,
      "outputs": []
    },
    {
      "cell_type": "code",
      "source": [
        "from tqdm import tqdm\n",
        "\n",
        "\n",
        "models = [model_singleLayer, model_twoLayer, model_threeLayer]\n",
        "layers = [\"Single Layer\", \"Two Layers\", \"Three Layers\"]\n",
        "\n",
        "for i, model in enumerate(models):\n",
        "    optimizer = torch.optim.NAdam(model.parameters(), lr=lr)\n",
        "\n",
        "    # Initialize variables to store metrics for the final epoch\n",
        "    final_test_loss = None\n",
        "    final_accuracy = None\n",
        "    final_all_predictions = None\n",
        "    final_all_probabilities = None\n",
        "    final_all_labels = None\n",
        "\n",
        "    # Train model for max_epochs\n",
        "    for epoch in tqdm(range(max_epochs), desc=layers[i]):\n",
        "        train_loss = train_one_epoch(train_loader, model, DEVICE, optimizer)\n",
        "        test_loss, accuracy, all_predictions, all_probabilities, all_labels = test_one_epoch_modified(test_loader, model, DEVICE)\n",
        "\n",
        "        # Store metrics from the final epoch\n",
        "        if epoch == max_epochs - 1:\n",
        "            final_test_loss = test_loss\n",
        "            final_accuracy = accuracy\n",
        "            final_all_predictions = all_predictions\n",
        "            final_all_probabilities = all_probabilities\n",
        "            final_all_labels = all_labels\n",
        "\n",
        "    # After training is complete, print the metrics for the last epoch\n",
        "    print(f\"Results for {layers[i]}:\")\n",
        "    print_metrics(final_all_labels, final_all_predictions, final_all_probabilities)\n",
        "    print(\"-----------------------------------------------------\")"
      ],
      "metadata": {
        "colab": {
          "base_uri": "https://localhost:8080/",
          "height": 1000
        },
        "id": "2vdYAJEc00_W",
        "outputId": "01b91862-c456-469a-baad-cf2e65ce2117"
      },
      "execution_count": 65,
      "outputs": [
        {
          "output_type": "stream",
          "name": "stderr",
          "text": [
            "Single Layer: 100%|██████████| 20/20 [00:17<00:00,  1.13it/s]\n"
          ]
        },
        {
          "output_type": "stream",
          "name": "stdout",
          "text": [
            "Results for Single Layer:\n",
            "Accuracy: 0.9552874378992193\n",
            "              precision    recall  f1-score   support\n",
            "\n",
            "         0.0       0.96      0.98      0.97      1032\n",
            "         1.0       0.94      0.89      0.91       377\n",
            "\n",
            "    accuracy                           0.96      1409\n",
            "   macro avg       0.95      0.94      0.94      1409\n",
            "weighted avg       0.95      0.96      0.95      1409\n",
            "\n",
            "ROC-AUC Score: 0.9923483025928896\n"
          ]
        },
        {
          "output_type": "display_data",
          "data": {
            "text/plain": [
              "<Figure size 640x480 with 1 Axes>"
            ],
            "image/png": "[encoded data removed]"
          },
          "metadata": {}
        },
        {
          "output_type": "stream",
          "name": "stdout",
          "text": [
            "-----------------------------------------------------\n"
          ]
        },
        {
          "output_type": "stream",
          "name": "stderr",
          "text": [
            "Two Layers: 100%|██████████| 20/20 [00:20<00:00,  1.03s/it]\n"
          ]
        },
        {
          "output_type": "stream",
          "name": "stdout",
          "text": [
            "Results for Two Layers:\n",
            "Accuracy: 0.957416607523066\n",
            "              precision    recall  f1-score   support\n",
            "\n",
            "         0.0       0.96      0.98      0.97      1032\n",
            "         1.0       0.95      0.89      0.92       377\n",
            "\n",
            "    accuracy                           0.96      1409\n",
            "   macro avg       0.95      0.94      0.94      1409\n",
            "weighted avg       0.96      0.96      0.96      1409\n",
            "\n",
            "ROC-AUC Score: 0.9913433265478173\n"
          ]
        },
        {
          "output_type": "display_data",
          "data": {
            "text/plain": [
              "<Figure size 640x480 with 1 Axes>"
            ],
            "image/png": "[encoded data removed]"
          },
          "metadata": {}
        },
        {
          "output_type": "stream",
          "name": "stdout",
          "text": [
            "-----------------------------------------------------\n"
          ]
        },
        {
          "output_type": "stream",
          "name": "stderr",
          "text": [
            "Three Layers: 100%|██████████| 20/20 [00:21<00:00,  1.08s/it]\n"
          ]
        },
        {
          "output_type": "stream",
          "name": "stdout",
          "text": [
            "Results for Three Layers:\n",
            "Accuracy: 0.957416607523066\n",
            "              precision    recall  f1-score   support\n",
            "\n",
            "         0.0       0.97      0.98      0.97      1032\n",
            "         1.0       0.93      0.90      0.92       377\n",
            "\n",
            "    accuracy                           0.96      1409\n",
            "   macro avg       0.95      0.94      0.95      1409\n",
            "weighted avg       0.96      0.96      0.96      1409\n",
            "\n",
            "ROC-AUC Score: 0.988274422717085\n"
          ]
        },
        {
          "output_type": "display_data",
          "data": {
            "text/plain": [
              "<Figure size 640x480 with 1 Axes>"
            ],
            "image/png": "[encoded data removed]"
          },
          "metadata": {}
        },
        {
          "output_type": "stream",
          "name": "stdout",
          "text": [
            "-----------------------------------------------------\n"
          ]
        }
      ]
    }
  ]
}